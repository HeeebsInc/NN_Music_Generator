{
 "cells": [
  {
   "cell_type": "code",
   "execution_count": 1,
   "metadata": {},
   "outputs": [
    {
     "name": "stderr",
     "output_type": "stream",
     "text": [
      "Using plaidml.keras.backend backend.\n"
     ]
    }
   ],
   "source": [
    "from keras.layers import LSTM, Dense, Conv1D, Dropout, GlobalMaxPool1D\n",
    "from keras.models import Sequential, load_model\n",
    "from keras.callbacks import ModelCheckpoint, EarlyStopping, ReduceLROnPlateau\n",
    "import pickle"
   ]
  },
  {
   "cell_type": "code",
   "execution_count": 2,
   "metadata": {},
   "outputs": [
    {
     "name": "stdout",
     "output_type": "stream",
     "text": [
      "(150021, 10, 1) (150021,)\n",
      "(16670, 10, 1) (16670,)\n"
     ]
    }
   ],
   "source": [
    "def get_pickles(pick_name): \n",
    "    x_train, x_test, y_train, y_test, notes_dict = pickle.load(open(f'../Pickles/{pick_name}', 'rb'))\n",
    "    \n",
    "    return x_train, x_test, y_train, y_test, notes_dict\n",
    "\n",
    "\n",
    "x_train, x_test, y_train, y_test, notes_dict = get_pickles('Classical2.p')\n",
    "print(x_train.shape, y_train.shape)\n",
    "print(x_test.shape, y_test.shape)"
   ]
  },
  {
   "cell_type": "code",
   "execution_count": null,
   "metadata": {},
   "outputs": [],
   "source": [
    "# x_train = x_train[:5001]\n",
    "# y_train = y_train[:5001]\n",
    "# x_test = x_test[:5001]\n",
    "# y_test = y_test[:5001]"
   ]
  },
  {
   "cell_type": "code",
   "execution_count": null,
   "metadata": {},
   "outputs": [],
   "source": [
    "print(x_train.shape, y_train.shape)\n",
    "print(x_test.shape, y_test.shape)"
   ]
  },
  {
   "cell_type": "code",
   "execution_count": 3,
   "metadata": {},
   "outputs": [],
   "source": [
    "def get_lstm(n): \n",
    "    model = Sequential()\n",
    "    model.add(LSTM(256, return_sequences = True))\n",
    "    model.add(LSTM(256))\n",
    "    model.add(Dropout(.25))\n",
    "    model.add(Dense(512, activation = 'relu'))\n",
    "    model.add(Dropout(.25))\n",
    "    model.add(Dense(n, activation = 'softmax')) \n",
    "    model.compile(loss = 'sparse_categorical_crossentropy', optimizer = 'adam', metrics = ['accuracy'])\n",
    "    return model\n",
    "\n",
    "\n",
    "def get_lstm(n): \n",
    "    model = Sequential()\n",
    "    model.add(LSTM(128, return_sequences = True))\n",
    "    model.add(LSTM(128))\n",
    "    model.add(Dense(256, activation = 'relu'))\n",
    "    model.add(Dropout(.25))\n",
    "    model.add(Dense(n, activation = 'softmax')) \n",
    "    model.compile(loss = 'sparse_categorical_crossentropy', optimizer = 'adam', metrics = ['accuracy'])\n",
    "    return model"
   ]
  },
  {
   "cell_type": "code",
   "execution_count": null,
   "metadata": {},
   "outputs": [
    {
     "name": "stderr",
     "output_type": "stream",
     "text": [
      "INFO:plaidml:Opening device \"opencl_amd_ellesmere.0\"\n"
     ]
    },
    {
     "name": "stdout",
     "output_type": "stream",
     "text": [
      "Train on 150021 samples, validate on 16670 samples\n",
      "Epoch 1/1000\n",
      "150021/150021 [==============================] - 55s 370us/step - loss: 4.4807 - acc: 0.0358 - val_loss: 4.3628 - val_acc: 0.0464\n",
      "\n",
      "Epoch 00001: val_loss improved from inf to 4.36282, saving model to ModelWeights/LSTM_Classical.h5\n",
      "Epoch 2/1000\n",
      "150021/150021 [==============================] - 32s 214us/step - loss: 4.3235 - acc: 0.0481 - val_loss: 4.2977 - val_acc: 0.0544\n",
      "\n",
      "Epoch 00002: val_loss improved from 4.36282 to 4.29767, saving model to ModelWeights/LSTM_Classical.h5\n",
      "Epoch 3/1000\n",
      "150021/150021 [==============================] - 32s 214us/step - loss: 4.2613 - acc: 0.0554 - val_loss: 4.2514 - val_acc: 0.0570\n",
      "\n",
      "Epoch 00003: val_loss improved from 4.29767 to 4.25145, saving model to ModelWeights/LSTM_Classical.h5\n",
      "Epoch 4/1000\n",
      " 44672/150021 [=======>......................] - ETA: 21s - loss: 4.2043 - acc: 0.0632"
     ]
    }
   ],
   "source": [
    "early_stopping = EarlyStopping(monitor='val_loss', verbose = 1, patience=15, min_delta = .00075)\n",
    "model_checkpoint = ModelCheckpoint('ModelWeights/LSTM_Classical.h5', verbose = 1, save_best_only=True,\n",
    "                                  monitor = 'val_loss')\n",
    "\n",
    "batch = 128 \n",
    "epochs = 1000 \n",
    "callbacks = [early_stopping, model_checkpoint]\n",
    "\n",
    "unique_n = len(notes_dict)\n",
    "lstm_model = get_lstm(unique_n)\n",
    "\n",
    "lstm_history = lstm_model.fit(x_train, y_train, batch_size = batch, epochs = epochs, validation_data = (x_test, y_test), \n",
    "                        callbacks = callbacks)"
   ]
  },
  {
   "cell_type": "code",
   "execution_count": null,
   "metadata": {},
   "outputs": [],
   "source": []
  }
 ],
 "metadata": {
  "kernelspec": {
   "display_name": "MusicGenerator",
   "language": "python",
   "name": "musicgenerator"
  },
  "language_info": {
   "codemirror_mode": {
    "name": "ipython",
    "version": 3
   },
   "file_extension": ".py",
   "mimetype": "text/x-python",
   "name": "python",
   "nbconvert_exporter": "python",
   "pygments_lexer": "ipython3",
   "version": "3.8.5"
  }
 },
 "nbformat": 4,
 "nbformat_minor": 2
}

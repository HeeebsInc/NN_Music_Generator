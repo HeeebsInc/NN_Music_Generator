{
 "cells": [
  {
   "cell_type": "code",
   "execution_count": 1,
   "metadata": {},
   "outputs": [
    {
     "name": "stderr",
     "output_type": "stream",
     "text": [
      "Using plaidml.keras.backend backend.\n"
     ]
    }
   ],
   "source": [
    "from keras.layers import LSTM, Dense, Conv1D, Dropout, GlobalMaxPool1D, Input\n",
    "from keras import Model\n",
    "from keras.models import Sequential, load_model\n",
    "from keras.callbacks import ModelCheckpoint, EarlyStopping, ReduceLROnPlateau\n",
    "import pickle"
   ]
  },
  {
   "cell_type": "code",
   "execution_count": 2,
   "metadata": {},
   "outputs": [
    {
     "name": "stdout",
     "output_type": "stream",
     "text": [
      "(62980, 50, 1) (62980,)\n",
      "(5477, 50, 1) (5477,)\n"
     ]
    }
   ],
   "source": [
    "model_type = 'Tester'\n",
    "def get_pickles(pick_name): \n",
    "    x_train, x_test, y_train, y_test, notes_dict = pickle.load(open(f'../Pickles/{pick_name}', 'rb'))\n",
    "    \n",
    "    return x_train, x_test, y_train, y_test, notes_dict\n",
    "\n",
    "\n",
    "x_train, x_test, y_train, y_test, notes_dict = get_pickles(f'{model_type}.p')\n",
    "print(x_train.shape, y_train.shape)\n",
    "print(x_test.shape, y_test.shape)"
   ]
  },
  {
   "cell_type": "code",
   "execution_count": 3,
   "metadata": {},
   "outputs": [],
   "source": [
    "# x_train = x_train[:5001]\n",
    "# y_train = y_train[:5001]\n",
    "# x_test = x_test[:5001]\n",
    "# y_test = y_test[:5001]\n",
    "# print(x_train.shape, y_train.shape)\n",
    "# print(x_test.shape, y_test.shape)"
   ]
  },
  {
   "cell_type": "code",
   "execution_count": null,
   "metadata": {},
   "outputs": [],
   "source": []
  },
  {
   "cell_type": "code",
   "execution_count": 3,
   "metadata": {},
   "outputs": [],
   "source": [
    "def get_lstm(n): \n",
    "    model = Sequential()\n",
    "    model.add(LSTM(256, return_sequences = True))\n",
    "    model.add(LSTM(256))\n",
    "    model.add(Dropout(.25))\n",
    "    model.add(Dense(512, activation = 'relu'))\n",
    "    model.add(Dropout(.25))\n",
    "    model.add(Dense(n, activation = 'softmax')) \n",
    "    model.compile(loss = 'sparse_categorical_crossentropy', optimizer = 'adam', metrics = ['accuracy'])\n",
    "    return model\n",
    "\n",
    "\n",
    "def get_lstm(n): \n",
    "    model = Sequential()\n",
    "    model.add(LSTM(128, return_sequences = True))\n",
    "    model.add(LSTM(128))    \n",
    "    model.add(Dense(256, activation = 'relu'))\n",
    "    model.add(Dropout(.3))\n",
    "    model.add(Dense(n, activation = 'softmax')) \n",
    "    model.compile(loss = 'sparse_categorical_crossentropy', optimizer = 'adam', metrics = ['accuracy'])\n",
    "    return model"
   ]
  },
  {
   "cell_type": "code",
   "execution_count": null,
   "metadata": {},
   "outputs": [
    {
     "name": "stderr",
     "output_type": "stream",
     "text": [
      "INFO:plaidml:Opening device \"opencl_amd_ellesmere.0\"\n"
     ]
    },
    {
     "name": "stdout",
     "output_type": "stream",
     "text": [
      "Train on 62980 samples, validate on 5477 samples\n",
      "Epoch 1/1000\n"
     ]
    },
    {
     "name": "stderr",
     "output_type": "stream",
     "text": [
      "INFO:plaidml:Analyzing Ops: 4608 of 9875 operations complete\n",
      "INFO:plaidml:Analyzing Ops: 9257 of 9875 operations complete\n"
     ]
    },
    {
     "name": "stdout",
     "output_type": "stream",
     "text": [
      "62976/62980 [============================>.] - ETA: 0s - loss: 5.2607 - acc: 0.0049"
     ]
    },
    {
     "name": "stderr",
     "output_type": "stream",
     "text": [
      "INFO:plaidml:Analyzing Ops: 3310 of 9875 operations complete\n",
      "INFO:plaidml:Analyzing Ops: 8478 of 9875 operations complete\n"
     ]
    },
    {
     "name": "stdout",
     "output_type": "stream",
     "text": [
      "62980/62980 [==============================] - 98s 2ms/step - loss: 5.2607 - acc: 0.0049 - val_loss: 5.0846 - val_acc: 0.0075\n",
      "\n",
      "Epoch 00001: val_loss improved from inf to 5.08462, saving model to ModelWeights/LSTM_Tester.h5\n",
      "Epoch 2/1000\n",
      "62980/62980 [==============================] - 41s 646us/step - loss: 4.9796 - acc: 0.0138 - val_loss: 4.9263 - val_acc: 0.0142\n",
      "\n",
      "Epoch 00002: val_loss improved from 5.08462 to 4.92634, saving model to ModelWeights/LSTM_Tester.h5\n",
      "Epoch 3/1000\n",
      "62980/62980 [==============================] - 40s 632us/step - loss: 4.8311 - acc: 0.0154 - val_loss: 4.8106 - val_acc: 0.0124\n",
      "\n",
      "Epoch 00003: val_loss improved from 4.92634 to 4.81063, saving model to ModelWeights/LSTM_Tester.h5\n",
      "Epoch 4/1000\n",
      "62980/62980 [==============================] - 40s 631us/step - loss: 4.7079 - acc: 0.0156 - val_loss: 4.6973 - val_acc: 0.0139\n",
      "\n",
      "Epoch 00004: val_loss improved from 4.81063 to 4.69731, saving model to ModelWeights/LSTM_Tester.h5\n",
      "Epoch 5/1000\n",
      "62980/62980 [==============================] - 40s 636us/step - loss: 4.5887 - acc: 0.0187 - val_loss: 4.6018 - val_acc: 0.0184\n",
      "\n",
      "Epoch 00005: val_loss improved from 4.69731 to 4.60181, saving model to ModelWeights/LSTM_Tester.h5\n",
      "Epoch 6/1000\n",
      "62980/62980 [==============================] - 40s 629us/step - loss: 4.4662 - acc: 0.0224 - val_loss: 4.5023 - val_acc: 0.0179\n",
      "\n",
      "Epoch 00006: val_loss improved from 4.60181 to 4.50225, saving model to ModelWeights/LSTM_Tester.h5\n",
      "Epoch 7/1000\n",
      "62980/62980 [==============================] - 41s 645us/step - loss: 4.3551 - acc: 0.0234 - val_loss: 4.4061 - val_acc: 0.0206\n",
      "\n",
      "Epoch 00007: val_loss improved from 4.50225 to 4.40610, saving model to ModelWeights/LSTM_Tester.h5\n",
      "Epoch 8/1000\n",
      "62980/62980 [==============================] - 40s 631us/step - loss: 4.2452 - acc: 0.0242 - val_loss: 4.3314 - val_acc: 0.0203\n",
      "\n",
      "Epoch 00008: val_loss improved from 4.40610 to 4.33137, saving model to ModelWeights/LSTM_Tester.h5\n",
      "Epoch 9/1000\n",
      "62980/62980 [==============================] - 40s 628us/step - loss: 4.1267 - acc: 0.0256 - val_loss: 4.2167 - val_acc: 0.0256\n",
      "\n",
      "Epoch 00009: val_loss improved from 4.33137 to 4.21669, saving model to ModelWeights/LSTM_Tester.h5\n",
      "Epoch 10/1000\n",
      "62980/62980 [==============================] - 40s 632us/step - loss: 4.0120 - acc: 0.0273 - val_loss: 4.1784 - val_acc: 0.0241\n",
      "\n",
      "Epoch 00010: val_loss improved from 4.21669 to 4.17836, saving model to ModelWeights/LSTM_Tester.h5\n",
      "Epoch 11/1000\n",
      "62980/62980 [==============================] - 40s 630us/step - loss: 3.8949 - acc: 0.0290 - val_loss: 4.0165 - val_acc: 0.0298\n",
      "\n",
      "Epoch 00011: val_loss improved from 4.17836 to 4.01650, saving model to ModelWeights/LSTM_Tester.h5\n",
      "Epoch 12/1000\n",
      "62980/62980 [==============================] - 40s 629us/step - loss: 3.7759 - acc: 0.0302 - val_loss: 3.9427 - val_acc: 0.0283\n",
      "\n",
      "Epoch 00012: val_loss improved from 4.01650 to 3.94272, saving model to ModelWeights/LSTM_Tester.h5\n",
      "Epoch 13/1000\n",
      "62980/62980 [==============================] - 40s 639us/step - loss: 3.6727 - acc: 0.0327 - val_loss: 3.8751 - val_acc: 0.0329\n",
      "\n",
      "Epoch 00013: val_loss improved from 3.94272 to 3.87512, saving model to ModelWeights/LSTM_Tester.h5\n",
      "Epoch 14/1000\n",
      "62980/62980 [==============================] - 40s 636us/step - loss: 3.5718 - acc: 0.0346 - val_loss: 3.8840 - val_acc: 0.0321\n",
      "\n",
      "Epoch 00014: val_loss did not improve from 3.87512\n",
      "Epoch 15/1000\n",
      "62980/62980 [==============================] - 40s 636us/step - loss: 3.4964 - acc: 0.0349 - val_loss: 3.7346 - val_acc: 0.0330\n",
      "\n",
      "Epoch 00015: val_loss improved from 3.87512 to 3.73458, saving model to ModelWeights/LSTM_Tester.h5\n",
      "Epoch 16/1000\n",
      "62980/62980 [==============================] - 40s 639us/step - loss: 3.3894 - acc: 0.0374 - val_loss: 3.6562 - val_acc: 0.0325\n",
      "\n",
      "Epoch 00016: val_loss improved from 3.73458 to 3.65619, saving model to ModelWeights/LSTM_Tester.h5\n",
      "Epoch 17/1000\n",
      "62980/62980 [==============================] - 41s 645us/step - loss: 3.3054 - acc: 0.0384 - val_loss: 3.6024 - val_acc: 0.0343\n",
      "\n",
      "Epoch 00017: val_loss improved from 3.65619 to 3.60235, saving model to ModelWeights/LSTM_Tester.h5\n",
      "Epoch 18/1000\n",
      "62980/62980 [==============================] - 40s 634us/step - loss: 3.2358 - acc: 0.0403 - val_loss: 3.5414 - val_acc: 0.0362\n",
      "\n",
      "Epoch 00018: val_loss improved from 3.60235 to 3.54136, saving model to ModelWeights/LSTM_Tester.h5\n",
      "Epoch 19/1000\n",
      "62980/62980 [==============================] - 40s 633us/step - loss: 3.1556 - acc: 0.0422 - val_loss: 3.5266 - val_acc: 0.0389\n",
      "\n",
      "Epoch 00019: val_loss improved from 3.54136 to 3.52658, saving model to ModelWeights/LSTM_Tester.h5\n",
      "Epoch 20/1000\n",
      "62980/62980 [==============================] - 41s 644us/step - loss: 3.0908 - acc: 0.0429 - val_loss: 3.4731 - val_acc: 0.0385\n",
      "\n",
      "Epoch 00020: val_loss improved from 3.52658 to 3.47308, saving model to ModelWeights/LSTM_Tester.h5\n",
      "Epoch 21/1000\n",
      "62980/62980 [==============================] - 40s 635us/step - loss: 3.0268 - acc: 0.0434 - val_loss: 3.4101 - val_acc: 0.0424\n",
      "\n",
      "Epoch 00021: val_loss improved from 3.47308 to 3.41013, saving model to ModelWeights/LSTM_Tester.h5\n",
      "Epoch 22/1000\n",
      "62980/62980 [==============================] - 40s 629us/step - loss: 2.9576 - acc: 0.0459 - val_loss: 3.4036 - val_acc: 0.0407\n",
      "\n",
      "Epoch 00022: val_loss improved from 3.41013 to 3.40361, saving model to ModelWeights/LSTM_Tester.h5\n",
      "Epoch 23/1000\n",
      "62980/62980 [==============================] - 40s 634us/step - loss: 2.9119 - acc: 0.0454 - val_loss: 3.3673 - val_acc: 0.0420\n",
      "\n",
      "Epoch 00023: val_loss improved from 3.40361 to 3.36734, saving model to ModelWeights/LSTM_Tester.h5\n",
      "Epoch 24/1000\n",
      "62980/62980 [==============================] - 40s 632us/step - loss: 2.8660 - acc: 0.0472 - val_loss: 3.3567 - val_acc: 0.0391\n",
      "\n",
      "Epoch 00024: val_loss improved from 3.36734 to 3.35671, saving model to ModelWeights/LSTM_Tester.h5\n",
      "Epoch 25/1000\n",
      "62980/62980 [==============================] - 40s 639us/step - loss: 2.8046 - acc: 0.0485 - val_loss: 3.3156 - val_acc: 0.0414\n",
      "\n",
      "Epoch 00025: val_loss improved from 3.35671 to 3.31558, saving model to ModelWeights/LSTM_Tester.h5\n",
      "Epoch 26/1000\n",
      "62980/62980 [==============================] - 41s 651us/step - loss: 2.7636 - acc: 0.0493 - val_loss: 3.2679 - val_acc: 0.0442\n",
      "\n",
      "Epoch 00026: val_loss improved from 3.31558 to 3.26787, saving model to ModelWeights/LSTM_Tester.h5\n",
      "Epoch 27/1000\n",
      "62980/62980 [==============================] - 40s 640us/step - loss: 2.7277 - acc: 0.0509 - val_loss: 3.2503 - val_acc: 0.0442\n",
      "\n",
      "Epoch 00027: val_loss improved from 3.26787 to 3.25031, saving model to ModelWeights/LSTM_Tester.h5\n",
      "Epoch 28/1000\n",
      "62980/62980 [==============================] - 40s 643us/step - loss: 2.6621 - acc: 0.0520 - val_loss: 3.2219 - val_acc: 0.0477\n",
      "\n",
      "Epoch 00028: val_loss improved from 3.25031 to 3.22186, saving model to ModelWeights/LSTM_Tester.h5\n",
      "Epoch 29/1000\n",
      "62980/62980 [==============================] - 40s 642us/step - loss: 2.6301 - acc: 0.0524 - val_loss: 3.2209 - val_acc: 0.0464\n",
      "\n",
      "Epoch 00029: val_loss improved from 3.22186 to 3.22091, saving model to ModelWeights/LSTM_Tester.h5\n",
      "Epoch 30/1000\n",
      "62980/62980 [==============================] - 39s 627us/step - loss: 2.5996 - acc: 0.0534 - val_loss: 3.1843 - val_acc: 0.0477\n",
      "\n",
      "Epoch 00030: val_loss improved from 3.22091 to 3.18430, saving model to ModelWeights/LSTM_Tester.h5\n",
      "Epoch 31/1000\n",
      "62980/62980 [==============================] - 40s 641us/step - loss: 2.5574 - acc: 0.0547 - val_loss: 3.1853 - val_acc: 0.0493\n",
      "\n",
      "Epoch 00031: val_loss did not improve from 3.18430\n",
      "Epoch 32/1000\n",
      "62980/62980 [==============================] - 41s 646us/step - loss: 2.5248 - acc: 0.0547 - val_loss: 3.1493 - val_acc: 0.0528\n",
      "\n",
      "Epoch 00032: val_loss improved from 3.18430 to 3.14927, saving model to ModelWeights/LSTM_Tester.h5\n",
      "Epoch 33/1000\n",
      "62980/62980 [==============================] - 40s 628us/step - loss: 2.4924 - acc: 0.0552 - val_loss: 3.1582 - val_acc: 0.0487\n",
      "\n",
      "Epoch 00033: val_loss did not improve from 3.14927\n",
      "Epoch 34/1000\n",
      "62980/62980 [==============================] - 40s 632us/step - loss: 2.4624 - acc: 0.0561 - val_loss: 3.1293 - val_acc: 0.0491\n",
      "\n",
      "Epoch 00034: val_loss improved from 3.14927 to 3.12927, saving model to ModelWeights/LSTM_Tester.h5\n",
      "Epoch 35/1000\n",
      "62980/62980 [==============================] - 40s 632us/step - loss: 2.4336 - acc: 0.0575 - val_loss: 3.1551 - val_acc: 0.0478\n"
     ]
    },
    {
     "name": "stdout",
     "output_type": "stream",
     "text": [
      "\n",
      "Epoch 00035: val_loss did not improve from 3.12927\n",
      "Epoch 36/1000\n",
      "62980/62980 [==============================] - 40s 635us/step - loss: 2.3919 - acc: 0.0585 - val_loss: 3.1165 - val_acc: 0.0515\n",
      "\n",
      "Epoch 00036: val_loss improved from 3.12927 to 3.11649, saving model to ModelWeights/LSTM_Tester.h5\n",
      "Epoch 37/1000\n",
      "62980/62980 [==============================] - 41s 652us/step - loss: 2.3670 - acc: 0.0594 - val_loss: 3.0637 - val_acc: 0.0515\n",
      "\n",
      "Epoch 00037: val_loss improved from 3.11649 to 3.06368, saving model to ModelWeights/LSTM_Tester.h5\n",
      "Epoch 38/1000\n",
      "62980/62980 [==============================] - 40s 632us/step - loss: 2.3347 - acc: 0.0609 - val_loss: 3.1094 - val_acc: 0.0528\n",
      "\n",
      "Epoch 00038: val_loss did not improve from 3.06368\n",
      "Epoch 39/1000\n",
      "62980/62980 [==============================] - 40s 640us/step - loss: 2.3248 - acc: 0.0608 - val_loss: 3.0327 - val_acc: 0.0537\n",
      "\n",
      "Epoch 00039: val_loss improved from 3.06368 to 3.03267, saving model to ModelWeights/LSTM_Tester.h5\n",
      "Epoch 40/1000\n",
      "62980/62980 [==============================] - 40s 641us/step - loss: 2.2834 - acc: 0.0612 - val_loss: 3.0418 - val_acc: 0.0561\n",
      "\n",
      "Epoch 00040: val_loss did not improve from 3.03267\n",
      "Epoch 41/1000\n",
      "62980/62980 [==============================] - 40s 631us/step - loss: 2.2639 - acc: 0.0620 - val_loss: 3.1093 - val_acc: 0.0524\n",
      "\n",
      "Epoch 00041: val_loss did not improve from 3.03267\n",
      "Epoch 42/1000\n",
      "62980/62980 [==============================] - 40s 633us/step - loss: 2.2359 - acc: 0.0628 - val_loss: 3.0265 - val_acc: 0.0550\n",
      "\n",
      "Epoch 00042: val_loss improved from 3.03267 to 3.02650, saving model to ModelWeights/LSTM_Tester.h5\n",
      "Epoch 43/1000\n",
      "62980/62980 [==============================] - 40s 639us/step - loss: 2.2121 - acc: 0.0644 - val_loss: 3.0514 - val_acc: 0.0570\n",
      "\n",
      "Epoch 00043: val_loss did not improve from 3.02650\n",
      "Epoch 44/1000\n",
      "62980/62980 [==============================] - 40s 630us/step - loss: 2.1969 - acc: 0.0637 - val_loss: 2.9777 - val_acc: 0.0575\n",
      "\n",
      "Epoch 00044: val_loss improved from 3.02650 to 2.97771, saving model to ModelWeights/LSTM_Tester.h5\n",
      "Epoch 45/1000\n",
      "62980/62980 [==============================] - 40s 628us/step - loss: 2.1602 - acc: 0.0651 - val_loss: 3.0006 - val_acc: 0.0561\n",
      "\n",
      "Epoch 00045: val_loss did not improve from 2.97771\n",
      "Epoch 46/1000\n",
      "62980/62980 [==============================] - 40s 637us/step - loss: 2.1445 - acc: 0.0650 - val_loss: 3.0024 - val_acc: 0.0595\n",
      "\n",
      "Epoch 00046: val_loss did not improve from 2.97771\n",
      "Epoch 47/1000\n",
      "23424/62980 [==========>...................] - ETA: 24s - loss: 2.1081 - acc: 0.0686"
     ]
    }
   ],
   "source": [
    "early_stopping = EarlyStopping(monitor='val_loss', verbose = 1, patience=10, min_delta = .00075)\n",
    "model_checkpoint = ModelCheckpoint(f'ModelWeights/LSTM_{model_type}.h5', verbose = 1, save_best_only=True,\n",
    "                                  monitor = 'val_loss')\n",
    "\n",
    "batch = 128 \n",
    "epochs = 1000 \n",
    "callbacks = [early_stopping, model_checkpoint]\n",
    "\n",
    "unique_n = len(notes_dict)\n",
    "lstm_model = get_lstm(unique_n)\n",
    "\n",
    "lstm_history = lstm_model.fit(x_train, y_train, batch_size = batch, epochs = epochs, validation_data = (x_test, y_test), \n",
    "                        callbacks = callbacks)\n",
    "\n",
    "pickle.dump(lstm_history, open(f'ModelPerf/{model_type}.p', 'wb'))"
   ]
  },
  {
   "cell_type": "code",
   "execution_count": 6,
   "metadata": {},
   "outputs": [
    {
     "ename": "AssertionError",
     "evalue": "",
     "output_type": "error",
     "traceback": [
      "\u001b[1;31m---------------------------------------------------------------------------\u001b[0m",
      "\u001b[1;31mAssertionError\u001b[0m                            Traceback (most recent call last)",
      "\u001b[1;32m<ipython-input-6-a871fdc9ebee>\u001b[0m in \u001b[0;36m<module>\u001b[1;34m\u001b[0m\n\u001b[1;32m----> 1\u001b[1;33m \u001b[1;32massert\u001b[0m \u001b[1;32mFalse\u001b[0m\u001b[1;33m\u001b[0m\u001b[1;33m\u001b[0m\u001b[0m\n\u001b[0m",
      "\u001b[1;31mAssertionError\u001b[0m: "
     ]
    }
   ],
   "source": [
    "assert False"
   ]
  },
  {
   "cell_type": "code",
   "execution_count": null,
   "metadata": {},
   "outputs": [],
   "source": [
    "%%javascript\n",
    "IPython.notebook.save_notebook()"
   ]
  },
  {
   "cell_type": "code",
   "execution_count": null,
   "metadata": {},
   "outputs": [],
   "source": [
    "\n",
    "import os\n",
    "os.system(r'%windir%\\system32\\rundll32.exe powrprof.dll,SetSuspendState Hibernate')"
   ]
  },
  {
   "cell_type": "code",
   "execution_count": null,
   "metadata": {},
   "outputs": [],
   "source": []
  }
 ],
 "metadata": {
  "kernelspec": {
   "display_name": "MusicGenerator",
   "language": "python",
   "name": "musicgenerator"
  },
  "language_info": {
   "codemirror_mode": {
    "name": "ipython",
    "version": 3
   },
   "file_extension": ".py",
   "mimetype": "text/x-python",
   "name": "python",
   "nbconvert_exporter": "python",
   "pygments_lexer": "ipython3",
   "version": "3.8.5"
  }
 },
 "nbformat": 4,
 "nbformat_minor": 2
}

{
 "cells": [
  {
   "cell_type": "code",
   "execution_count": 1,
   "metadata": {},
   "outputs": [
    {
     "name": "stderr",
     "output_type": "stream",
     "text": [
      "Using plaidml.keras.backend backend.\n"
     ]
    }
   ],
   "source": [
    "import random \n",
    "from keras.models import load_model\n",
    "import music21\n",
    "import pickle\n",
    "from tqdm import tqdm"
   ]
  },
  {
   "cell_type": "code",
   "execution_count": 58,
   "metadata": {},
   "outputs": [],
   "source": [
    "def read_midi(file_path): \n",
    "    notes = [] \n",
    "    notes_to_parse = None \n",
    "\n",
    "    try:\n",
    "        midi= converter.parse(file_path)\n",
    "        s2 = instrument.partitionByInstrument(midi)\n",
    "        for part in s2.parts:\n",
    "            #select elements of only piano\n",
    "            notes_to_parse = part.recurse() \n",
    "            #finding whether a particular element is note or a chord\n",
    "            for element in notes_to_parse:\n",
    "                print(element)\n",
    "                #note\n",
    "                if isinstance(element, note.Note):\n",
    "                    notes.append(str(element.pitch))\n",
    "                #chord\n",
    "                elif isinstance(element, chord.Chord):\n",
    "                    notes.append('.'.join(str(n) for n in element.normalOrder))\n",
    "                elif isinstance(element, key.Key): \n",
    "                    print(element)\n",
    "                    return element\n",
    "\n",
    "        return np.array(notes)\n",
    "    except: \n",
    "        raise\n",
    "        return np.array([])"
   ]
  },
  {
   "cell_type": "code",
   "execution_count": 59,
   "metadata": {},
   "outputs": [
    {
     "name": "stdout",
     "output_type": "stream",
     "text": [
      "\n",
      "<music21.tempo.MetronomeMark allegro moderato Quarter=128.0>\n",
      "<music21.meter.TimeSignature 4/4>\n",
      "<music21.chord.Chord G2 B-4 G4>\n",
      "<music21.chord.Chord G2 B-4 G4>\n",
      "<music21.chord.Chord G2 B-4 G4>\n",
      "<music21.chord.Chord G2 B-4 G4>\n",
      "<music21.chord.Chord G2 B-4 G4>\n",
      "<music21.chord.Chord F2 A4 F4>\n",
      "<music21.chord.Chord F2 A4 F4>\n",
      "<music21.chord.Chord F2 A4 F4>\n",
      "<music21.chord.Chord F2 A4 F4>\n",
      "<music21.chord.Chord F2 A4 F4>\n",
      "<music21.chord.Chord E-2 G4 E-4>\n",
      "<music21.chord.Chord E-2 G4 E-4>\n",
      "<music21.note.Note E->\n",
      "<music21.chord.Chord G4 E-4>\n",
      "<music21.chord.Chord E-2 G4 E-4>\n",
      "<music21.note.Note E->\n",
      "<music21.chord.Chord G4 E-4>\n",
      "<music21.note.Note B->\n",
      "<music21.chord.Chord D4 B-3>\n",
      "<music21.chord.Chord B-1 D4 B-3>\n",
      "<music21.note.Note B->\n",
      "<music21.chord.Chord D4 B-3>\n",
      "<music21.note.Note B->\n",
      "<music21.chord.Chord D4 B-3>\n",
      "<music21.note.Note B->\n",
      "<music21.chord.Chord D4 B-3>\n"
     ]
    }
   ],
   "source": [
    "# test = read_midi('../50cent/50_cent-disco_inferno.mid')\n",
    "test = read_midi('../EDM/All/FLPN Deep House - 04.mid')"
   ]
  },
  {
   "cell_type": "code",
   "execution_count": 56,
   "metadata": {},
   "outputs": [
    {
     "data": {
      "text/plain": [
       "array(['7.10', '7.10', '7.10', '7.10', '7.10', '5.9', '5.9', '5.9', '5.9',\n",
       "       '5.9', '3.7', '3.7', 'E-2', '3.7', '3.7', 'E-2', '3.7', 'B-1',\n",
       "       '10.2', '10.2', 'B-1', '10.2', 'B-1', '10.2', 'B-1', '10.2'],\n",
       "      dtype='<U4')"
      ]
     },
     "execution_count": 56,
     "metadata": {},
     "output_type": "execute_result"
    }
   ],
   "source": [
    "test"
   ]
  },
  {
   "cell_type": "code",
   "execution_count": 57,
   "metadata": {},
   "outputs": [
    {
     "name": "stdout",
     "output_type": "stream",
     "text": [
      "['7.10' '7.10' '7.10' '7.10' '7.10' '5.9' '5.9' '5.9' '5.9' '5.9' '3.7'\n",
      " '3.7' 'E-2' '3.7' '3.7' 'E-2' '3.7' 'B-1' '10.2' '10.2' 'B-1' '10.2'\n",
      " 'B-1' '10.2' 'B-1' '10.2']\n"
     ]
    },
    {
     "ename": "AttributeError",
     "evalue": "'numpy.ndarray' object has no attribute 'normalOrder'",
     "output_type": "error",
     "traceback": [
      "\u001b[1;31m---------------------------------------------------------------------------\u001b[0m",
      "\u001b[1;31mAttributeError\u001b[0m                            Traceback (most recent call last)",
      "\u001b[1;32m<ipython-input-57-0e5ad4c53427>\u001b[0m in \u001b[0;36m<module>\u001b[1;34m\u001b[0m\n\u001b[0;32m      1\u001b[0m \u001b[0mprint\u001b[0m\u001b[1;33m(\u001b[0m\u001b[0mtest\u001b[0m\u001b[1;33m)\u001b[0m\u001b[1;33m\u001b[0m\u001b[1;33m\u001b[0m\u001b[0m\n\u001b[1;32m----> 2\u001b[1;33m \u001b[1;34m'.'\u001b[0m\u001b[1;33m.\u001b[0m\u001b[0mjoin\u001b[0m\u001b[1;33m(\u001b[0m\u001b[0mstr\u001b[0m\u001b[1;33m(\u001b[0m\u001b[0mn\u001b[0m\u001b[1;33m)\u001b[0m \u001b[1;32mfor\u001b[0m \u001b[0mn\u001b[0m \u001b[1;32min\u001b[0m \u001b[0mtest\u001b[0m\u001b[1;33m.\u001b[0m\u001b[0mnormalOrder\u001b[0m\u001b[1;33m)\u001b[0m\u001b[1;33m\u001b[0m\u001b[1;33m\u001b[0m\u001b[0m\n\u001b[0m",
      "\u001b[1;31mAttributeError\u001b[0m: 'numpy.ndarray' object has no attribute 'normalOrder'"
     ]
    }
   ],
   "source": [
    "print(test)\n",
    "'.'.join(str(n) for n in test.normalOrder)"
   ]
  },
  {
   "cell_type": "code",
   "execution_count": null,
   "metadata": {},
   "outputs": [],
   "source": []
  }
 ],
 "metadata": {
  "kernelspec": {
   "display_name": "MusicGenerator",
   "language": "python",
   "name": "musicgenerator"
  },
  "language_info": {
   "codemirror_mode": {
    "name": "ipython",
    "version": 3
   },
   "file_extension": ".py",
   "mimetype": "text/x-python",
   "name": "python",
   "nbconvert_exporter": "python",
   "pygments_lexer": "ipython3",
   "version": "3.8.5"
  }
 },
 "nbformat": 4,
 "nbformat_minor": 2
}

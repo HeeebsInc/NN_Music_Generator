{
 "cells": [
  {
   "cell_type": "code",
   "execution_count": 1,
   "metadata": {},
   "outputs": [
    {
     "name": "stderr",
     "output_type": "stream",
     "text": [
      "Using plaidml.keras.backend backend.\n"
     ]
    }
   ],
   "source": [
    "from music21 import converter, instrument, note, chord\n",
    "import numpy as np\n",
    "import os\n",
    "from tqdm import tqdm\n",
    "from sklearn.model_selection import train_test_split\n",
    "import pickle\n",
    "from collections import defaultdict \n"
   ]
  },
  {
   "cell_type": "code",
   "execution_count": 3,
   "metadata": {},
   "outputs": [
    {
     "name": "stderr",
     "output_type": "stream",
     "text": [
      "Reading Midi Files: 100%|█████████████████████████████████████████████████████████████████████████████████████████████████████████████████████████████████| 14/14 [00:13<00:00,  1.07it/s]\n",
      "Creating Timeseries: 100%|██████████████████████████████████████████████████████████████████████████████████████████████████████████████████████████████| 14/14 [00:00<00:00, 1749.87it/s]\n"
     ]
    }
   ],
   "source": [
    "def read_midi(file_path): \n",
    "    notes = [] \n",
    "    notes_to_parse = None \n",
    "\n",
    "\n",
    "    midi= converter.parse(file_path)\n",
    "    \n",
    "    s2 = instrument.partitionByInstrument(midi)\n",
    "    for part in s2.parts:\n",
    "    \n",
    "        #select elements of only piano\n",
    "        if 'Piano' in str(part): \n",
    "        \n",
    "            notes_to_parse = part.recurse() \n",
    "      \n",
    "            #finding whether a particular element is note or a chord\n",
    "            for element in notes_to_parse:\n",
    "                \n",
    "                #note\n",
    "                if isinstance(element, note.Note):\n",
    "                    notes.append(str(element.pitch))\n",
    "                \n",
    "                #chord\n",
    "                elif isinstance(element, chord.Chord):\n",
    "                    notes.append('.'.join(str(n) for n in element.normalOrder))\n",
    "\n",
    "    return np.array(notes)\n",
    "\n",
    "def unique_set(np_array, array_type): \n",
    "    unique = list(set(np_array.ravel()))\n",
    "    unique_int = dict((n,i) for i,n in enumerate(unique))\n",
    "    new_array =[] \n",
    "    if array_type == 'x':\n",
    "        for group in np_array: \n",
    "            temp = [] \n",
    "            for n in group: \n",
    "                temp.append(unique_int[n])\n",
    "            new_array.append(temp)\n",
    "    else: \n",
    "        for n in np_array: \n",
    "            new_array.append(unique_int[n])\n",
    "    new_array = np.array(new_array)\n",
    "    return new_array, unique_int\n",
    "\n",
    "def get_tts(base_dir, timestep = 10): \n",
    "    song_files = [f'{base_dir}/{i}' for i in os.listdir(base_dir)]\n",
    "    songs_notes = [read_midi(i) for i in tqdm(song_files, desc = 'Reading Midi Files')]\n",
    "    all_notes = [i for note_ in songs_notes for i in note_]\n",
    "    note_counter = defaultdict(int)\n",
    "\n",
    "    for i in all_notes: \n",
    "        note_counter[i]+= 1\n",
    "    \n",
    "    int_to_note = dict((idx, n) for idx, n in enumerate(all_notes))\n",
    "    \n",
    "\n",
    "    x = [] \n",
    "    y = [] \n",
    "\n",
    "    pbar = tqdm(songs_notes, desc = 'Creating Timeseries')\n",
    "    for idx_song, song in enumerate(pbar):\n",
    "        for idx in range(timestep,len(song)-(timestep), 1): \n",
    "            x.append(song[idx:idx+timestep])\n",
    "            y.append(song[idx + (timestep)])\n",
    "\n",
    "    x = np.array(x)\n",
    "    y = np.array(y)  \n",
    "    \n",
    "    new_x, x_dict = unique_set(x, array_type = 'x')\n",
    "    new_y, y_dict = unique_set(y, array_type ='y')\n",
    "    \n",
    "    x_train, x_test, y_train, y_test = train_test_split(new_x, new_y, train_size = .90, random_state = 10)\n",
    "    x_train = x_train.reshape(x_train.shape[0], x_train.shape[1],1)\n",
    "    x_test = x_test.reshape(x_test.shape[0], x_test.shape[1],1)\n",
    "    \n",
    "    return x_train, x_test, y_train, y_test\n",
    "\n",
    "x_train, x_test, y_train, y_test = get_tts('../50cent')\n"
   ]
  },
  {
   "cell_type": "code",
   "execution_count": null,
   "metadata": {},
   "outputs": [],
   "source": []
  },
  {
   "cell_type": "code",
   "execution_count": null,
   "metadata": {},
   "outputs": [],
   "source": []
  }
 ],
 "metadata": {
  "kernelspec": {
   "display_name": "MusicGenerator",
   "language": "python",
   "name": "musicgenerator"
  },
  "language_info": {
   "codemirror_mode": {
    "name": "ipython",
    "version": 3
   },
   "file_extension": ".py",
   "mimetype": "text/x-python",
   "name": "python",
   "nbconvert_exporter": "python",
   "pygments_lexer": "ipython3",
   "version": "3.8.5"
  }
 },
 "nbformat": 4,
 "nbformat_minor": 2
}

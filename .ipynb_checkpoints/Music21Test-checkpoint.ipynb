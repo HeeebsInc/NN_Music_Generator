{
 "cells": [
  {
   "cell_type": "code",
   "execution_count": 1,
   "metadata": {},
   "outputs": [
    {
     "name": "stderr",
     "output_type": "stream",
     "text": [
      "Using plaidml.keras.backend backend.\n"
     ]
    }
   ],
   "source": [
    "from music21 import converter, instrument, note, chord\n",
    "import numpy as np\n",
    "import os\n",
    "from tqdm import tqdm\n",
    "from sklearn.model_selection import train_test_split\n",
    "from keras.layers import LSTM, Dense, Conv1D, Dropout, GlobalMaxPool1D\n",
    "from keras.models import Sequential, load_model\n",
    "from keras.callbacks import ModelCheckpoint, EarlyStopping, ReduceLROnPlateau\n",
    "import pickle"
   ]
  },
  {
   "cell_type": "code",
   "execution_count": 2,
   "metadata": {},
   "outputs": [
    {
     "name": "stderr",
     "output_type": "stream",
     "text": [
      "100%|█████████████████████████████████████████████████████████████████████████████████████████████████████████████████████████████████████████████████████| 14/14 [00:12<00:00,  1.10it/s]\n"
     ]
    }
   ],
   "source": [
    "def read_midi(file_path): \n",
    "    notes = [] \n",
    "    notes_to_parse = None \n",
    "\n",
    "\n",
    "    midi= converter.parse(file_path)\n",
    "    \n",
    "    s2 = instrument.partitionByInstrument(midi)\n",
    "    for part in s2.parts:\n",
    "    \n",
    "        #select elements of only piano\n",
    "        if 'Piano' in str(part): \n",
    "        \n",
    "            notes_to_parse = part.recurse() \n",
    "      \n",
    "            #finding whether a particular element is note or a chord\n",
    "            for element in notes_to_parse:\n",
    "                \n",
    "                #note\n",
    "                if isinstance(element, note.Note):\n",
    "                    notes.append(str(element.pitch))\n",
    "                \n",
    "                #chord\n",
    "                elif isinstance(element, chord.Chord):\n",
    "                    notes.append('.'.join(str(n) for n in element.normalOrder))\n",
    "\n",
    "    return np.array(notes)\n",
    "\n",
    "\n",
    "base_dir = '../50cent'\n",
    "cent_files = [f'{base_dir}/{i}' for i in os.listdir(base_dir)]\n",
    "cent_notes = [read_midi(i) for i in tqdm(cent_files)]\n",
    "all_notes = [i for note_ in cent_notes for i in note_]"
   ]
  },
  {
   "cell_type": "code",
   "execution_count": 3,
   "metadata": {},
   "outputs": [],
   "source": [
    "from collections import defaultdict \n",
    "\n",
    "note_counter = defaultdict(int)\n",
    "\n",
    "for i in all_notes: \n",
    "    note_counter[i]+= 1"
   ]
  },
  {
   "cell_type": "code",
   "execution_count": null,
   "metadata": {},
   "outputs": [],
   "source": [
    "int_to_note = dict((idx, n) for idx, n in enumerate(all_notes))\n",
    "\n",
    "int_to_note"
   ]
  },
  {
   "cell_type": "code",
   "execution_count": null,
   "metadata": {},
   "outputs": [],
   "source": [
    "def get_ts(notes, timestep = 10): \n",
    "    x = [] \n",
    "    y = [] \n",
    "\n",
    "    pbar = tqdm(notes)\n",
    "    for idx_song, song in enumerate(pbar):\n",
    "        for idx in range(timestep,len(song)-(timestep), 1): \n",
    "            x.append(song[idx:idx+timestep])\n",
    "            y.append(song[idx + (timestep)])\n",
    "\n",
    "    x = np.array(x)\n",
    "    y = np.array(y)\n",
    "    \n",
    "    return x, y\n",
    "\n",
    "x,y = get_ts(cent_notes)"
   ]
  },
  {
   "cell_type": "code",
   "execution_count": null,
   "metadata": {},
   "outputs": [],
   "source": [
    "def unique_set(np_array, array_type): \n",
    "    unique = list(set(np_array.ravel()))\n",
    "    unique_int = dict((n,i) for i,n in enumerate(unique))\n",
    "    new_array =[] \n",
    "    if array_type == 'x':\n",
    "        for group in np_array: \n",
    "            temp = [] \n",
    "            for n in group: \n",
    "                temp.append(unique_int[n])\n",
    "            new_array.append(temp)\n",
    "    else: \n",
    "        for n in np_array: \n",
    "            new_array.append(unique_int[n])\n",
    "    new_array = np.array(new_array)\n",
    "    return new_array, unique_int\n",
    "\n",
    "new_x, x_dict = unique_set(x, array_type = 'x')\n",
    "new_y, y_dict = unique_set(y, array_type ='y')\n",
    "\n",
    "new_x,new_y"
   ]
  },
  {
   "cell_type": "code",
   "execution_count": null,
   "metadata": {},
   "outputs": [],
   "source": [
    "x_train, x_test, y_train, y_test = train_test_split(new_x, new_y, train_size = .90, random_state = 10)\n",
    "x_train = x_train.reshape(x_train.shape[0], x_train.shape[1],1)\n",
    "x_test = x_test.reshape(x_test.shape[0], x_test.shape[1],1)\n",
    "\n",
    "len(x_train), len(x_test)"
   ]
  },
  {
   "cell_type": "code",
   "execution_count": null,
   "metadata": {},
   "outputs": [],
   "source": [
    "assert False"
   ]
  },
  {
   "cell_type": "code",
   "execution_count": null,
   "metadata": {},
   "outputs": [],
   "source": [
    "def get_lstm(n): \n",
    "    model = Sequential()\n",
    "    model.add(LSTM(128, return_sequences = True))\n",
    "    model.add(LSTM(128))\n",
    "    model.add(Dense(256, activation = 'relu'))\n",
    "    model.add(Dense(n, activation = 'softmax')) \n",
    "    model.compile(loss = 'sparse_categorical_crossentropy', optimizer = 'adam')\n",
    "    return model"
   ]
  },
  {
   "cell_type": "code",
   "execution_count": null,
   "metadata": {},
   "outputs": [],
   "source": [
    "# unique_n = len(set(new_y))\n",
    "# get_lstm(unique_n, x_train)"
   ]
  },
  {
   "cell_type": "code",
   "execution_count": null,
   "metadata": {},
   "outputs": [],
   "source": [
    "early_stopping = EarlyStopping(monitor='val_loss', verbose = 1, patience=10, min_delta = .00075)\n",
    "model_checkpoint = ModelCheckpoint('ModelWeights/LSTM.h5', verbose = 1, save_best_only=True,\n",
    "                                  monitor = 'val_loss')\n",
    "\n",
    "\n",
    "\n",
    "batch = 128 \n",
    "epochs = 1000 \n",
    "callbacks = [early_stopping, model_checkpoint]\n",
    "\n",
    "unique_n = len(set(new_y))\n",
    "lstm_model = get_lstm(unique_n)\n",
    "\n",
    "lstm_history = lstm_model.fit(x_train, y_train, batch_size = batch, epochs = epochs, validation_data = (x_test, y_test), \n",
    "                        callbacks = callbacks)\n"
   ]
  },
  {
   "cell_type": "code",
   "execution_count": null,
   "metadata": {},
   "outputs": [],
   "source": [
    "lstm_model = load_model('ModelWeights/LSTM.h5')\n",
    "print(lstm_model.summary())"
   ]
  },
  {
   "cell_type": "code",
   "execution_count": null,
   "metadata": {},
   "outputs": [],
   "source": [
    "import random \n",
    "\n",
    "idx = np.random.randint(0, len(x_test)-1)\n",
    "random_music = x_test[idx]\n",
    "predictions = [] \n",
    "for i in range(10): \n",
    "    random_music = random_music.reshape(1,timestep,1)\n",
    "    prob = lstm_model.predict(random_music)[0]\n",
    "    y_pred = np.argmax(prob, axis = 0)\n",
    "    \n",
    "    predictions.append(y_pred)\n",
    "    \n",
    "    random_music = np.insert(random_music[0], len(random_music[0]),y_pred)\n",
    "    random_music = random_music[1:]\n",
    "    \n",
    "print(predictions)"
   ]
  },
  {
   "cell_type": "code",
   "execution_count": null,
   "metadata": {},
   "outputs": [],
   "source": [
    "unique_x = list(set(x.ravel()))\n",
    "\n",
    "x_int_dict = dict((i,n) for n,i in enumerate(unique_x))\n",
    "\n",
    "predicted_notes = [x_int_dict[i] for i in predictions]\n",
    "predicted_notes"
   ]
  },
  {
   "cell_type": "code",
   "execution_count": null,
   "metadata": {},
   "outputs": [],
   "source": []
  }
 ],
 "metadata": {
  "kernelspec": {
   "display_name": "MusicGenerator",
   "language": "python",
   "name": "musicgenerator"
  },
  "language_info": {
   "codemirror_mode": {
    "name": "ipython",
    "version": 3
   },
   "file_extension": ".py",
   "mimetype": "text/x-python",
   "name": "python",
   "nbconvert_exporter": "python",
   "pygments_lexer": "ipython3",
   "version": "3.8.5"
  }
 },
 "nbformat": 4,
 "nbformat_minor": 2
}

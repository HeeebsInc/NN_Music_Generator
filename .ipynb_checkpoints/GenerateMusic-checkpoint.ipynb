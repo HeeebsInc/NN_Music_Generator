{
 "cells": [
  {
   "cell_type": "code",
   "execution_count": null,
   "metadata": {},
   "outputs": [],
   "source": [
    "import random \n"
   ]
  },
  {
   "cell_type": "code",
   "execution_count": null,
   "metadata": {},
   "outputs": [],
   "source": [
    "\n",
    "idx = np.random.randint(0, len(x_test)-1)\n",
    "random_music = x_test[idx]\n",
    "predictions = [] \n",
    "for i in range(10): \n",
    "    random_music = random_music.reshape(1,timestep,1)\n",
    "    prob = lstm_model.predict(random_music)[0]\n",
    "    y_pred = np.argmax(prob, axis = 0)\n",
    "    \n",
    "    predictions.append(y_pred)\n",
    "    \n",
    "    random_music = np.insert(random_music[0], len(random_music[0]),y_pred)\n",
    "    random_music = random_music[1:]\n",
    "    \n",
    "print(predictions)\n",
    "\n",
    "unique_x = list(set(x.ravel()))\n",
    "\n",
    "x_int_dict = dict((i,n) for n,i in enumerate(unique_x))\n",
    "\n",
    "predicted_notes = [x_int_dict[i] for i in predictions]\n",
    "predicted_notes"
   ]
  }
 ],
 "metadata": {
  "kernelspec": {
   "display_name": "MusicGenerator",
   "language": "python",
   "name": "musicgenerator"
  },
  "language_info": {
   "codemirror_mode": {
    "name": "ipython",
    "version": 3
   },
   "file_extension": ".py",
   "mimetype": "text/x-python",
   "name": "python",
   "nbconvert_exporter": "python",
   "pygments_lexer": "ipython3",
   "version": "3.8.5"
  }
 },
 "nbformat": 4,
 "nbformat_minor": 2
}

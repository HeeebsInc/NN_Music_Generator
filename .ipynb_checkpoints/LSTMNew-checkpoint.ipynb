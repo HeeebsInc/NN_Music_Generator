{
 "cells": [
  {
   "cell_type": "code",
   "execution_count": 1,
   "metadata": {},
   "outputs": [
    {
     "name": "stderr",
     "output_type": "stream",
     "text": [
      "Using plaidml.keras.backend backend.\n"
     ]
    }
   ],
   "source": [
    "from keras.layers import LSTM, Dense, Conv1D, Dropout, GlobalMaxPool1D\n",
    "from keras.models import Sequential, load_model\n",
    "from keras.callbacks import ModelCheckpoint, EarlyStopping, ReduceLROnPlateau\n",
    "import pickle"
   ]
  },
  {
   "cell_type": "code",
   "execution_count": 2,
   "metadata": {},
   "outputs": [
    {
     "name": "stdout",
     "output_type": "stream",
     "text": [
      "(38585, 100, 1) (38585,)\n",
      "(3356, 100, 1) (3356,)\n"
     ]
    }
   ],
   "source": [
    "model_type = 'Tester'\n",
    "def get_pickles(pick_name): \n",
    "    x_train, x_test, y_train, y_test, notes_dict = pickle.load(open(f'../Pickles/{pick_name}', 'rb'))\n",
    "    \n",
    "    return x_train, x_test, y_train, y_test, notes_dict\n",
    "\n",
    "\n",
    "x_train, x_test, y_train, y_test, notes_dict = get_pickles(f'{model_type}.p')\n",
    "print(x_train.shape, y_train.shape)\n",
    "print(x_test.shape, y_test.shape)"
   ]
  },
  {
   "cell_type": "code",
   "execution_count": 3,
   "metadata": {},
   "outputs": [],
   "source": [
    "# x_train = x_train[:5001]\n",
    "# y_train = y_train[:5001]\n",
    "# x_test = x_test[:5001]\n",
    "# y_test = y_test[:5001]\n",
    "# print(x_train.shape, y_train.shape)\n",
    "# print(x_test.shape, y_test.shape)"
   ]
  },
  {
   "cell_type": "code",
   "execution_count": null,
   "metadata": {},
   "outputs": [],
   "source": []
  },
  {
   "cell_type": "code",
   "execution_count": 4,
   "metadata": {},
   "outputs": [],
   "source": [
    "def get_lstm(n): \n",
    "    model = Sequential()\n",
    "    model.add(LSTM(256, return_sequences = True))\n",
    "    model.add(LSTM(256))\n",
    "    model.add(Dropout(.25))\n",
    "    model.add(Dense(512, activation = 'relu'))\n",
    "    model.add(Dropout(.25))\n",
    "    model.add(Dense(n, activation = 'softmax')) \n",
    "    model.compile(loss = 'sparse_categorical_crossentropy', optimizer = 'adam', metrics = ['accuracy'])\n",
    "    return model\n",
    "\n",
    "\n",
    "def get_lstm(n): \n",
    "    model = Sequential()\n",
    "    model.add(LSTM(128, return_sequences = True))\n",
    "    model.add(LSTM(128))    \n",
    "#     model.add(Dense(128, activation = 'relu'))\n",
    "#     model.add(Dropout(.3))\n",
    "    model.add(Dense(256, activation = 'relu'))\n",
    "#     model.add(Dense(512, activation = 'relu'))\n",
    "\n",
    "    model.add(Dropout(.3))\n",
    "    model.add(Dense(n, activation = 'softmax')) \n",
    "    model.compile(loss = 'sparse_categorical_crossentropy', optimizer = 'adam', metrics = ['accuracy'])\n",
    "    return model"
   ]
  },
  {
   "cell_type": "code",
   "execution_count": 5,
   "metadata": {},
   "outputs": [
    {
     "name": "stderr",
     "output_type": "stream",
     "text": [
      "INFO:plaidml:Opening device \"opencl_amd_ellesmere.0\"\n"
     ]
    },
    {
     "name": "stdout",
     "output_type": "stream",
     "text": [
      "Train on 38585 samples, validate on 3356 samples\n",
      "Epoch 1/1000\n"
     ]
    },
    {
     "name": "stderr",
     "output_type": "stream",
     "text": [
      "INFO:plaidml:Analyzing Ops: 2520 of 19475 operations complete\n",
      "INFO:plaidml:Analyzing Ops: 6698 of 19475 operations complete\n",
      "INFO:plaidml:Analyzing Ops: 12204 of 19475 operations complete\n",
      "INFO:plaidml:Analyzing Ops: 16844 of 19475 operations complete\n"
     ]
    },
    {
     "name": "stdout",
     "output_type": "stream",
     "text": [
      "38528/38585 [============================>.] - ETA: 0s - loss: 4.7436 - acc: 0.0291"
     ]
    },
    {
     "name": "stderr",
     "output_type": "stream",
     "text": [
      "INFO:plaidml:Analyzing Ops: 3375 of 19475 operations complete\n",
      "INFO:plaidml:Analyzing Ops: 7534 of 19475 operations complete\n",
      "INFO:plaidml:Analyzing Ops: 13161 of 19475 operations complete\n",
      "INFO:plaidml:Analyzing Ops: 17658 of 19475 operations complete\n",
      "INFO:plaidml:Analyzing Ops: 3998 of 8388 operations complete\n",
      "INFO:plaidml:Analyzing Ops: 4281 of 8388 operations complete\n"
     ]
    },
    {
     "name": "stdout",
     "output_type": "stream",
     "text": [
      "38585/38585 [==============================] - 161s 4ms/step - loss: 4.7430 - acc: 0.0291 - val_loss: 4.5026 - val_acc: 0.0423\n",
      "\n",
      "Epoch 00001: val_loss improved from inf to 4.50257, saving model to ModelWeights/LSTM_Tester.h5\n",
      "Epoch 2/1000\n",
      "38585/38585 [==============================] - 41s 1ms/step - loss: 4.4081 - acc: 0.0497 - val_loss: 4.2476 - val_acc: 0.0653\n",
      "\n",
      "Epoch 00002: val_loss improved from 4.50257 to 4.24755, saving model to ModelWeights/LSTM_Tester.h5\n",
      "Epoch 3/1000\n",
      "38585/38585 [==============================] - 41s 1ms/step - loss: 4.1576 - acc: 0.0696 - val_loss: 4.0500 - val_acc: 0.0796\n",
      "\n",
      "Epoch 00003: val_loss improved from 4.24755 to 4.05001, saving model to ModelWeights/LSTM_Tester.h5\n",
      "Epoch 4/1000\n",
      "38585/38585 [==============================] - 41s 1ms/step - loss: 3.9734 - acc: 0.0855 - val_loss: 3.8904 - val_acc: 0.0974\n",
      "\n",
      "Epoch 00004: val_loss improved from 4.05001 to 3.89042, saving model to ModelWeights/LSTM_Tester.h5\n",
      "Epoch 5/1000\n",
      "38585/38585 [==============================] - 41s 1ms/step - loss: 3.8117 - acc: 0.0996 - val_loss: 3.7953 - val_acc: 0.1040\n",
      "\n",
      "Epoch 00005: val_loss improved from 3.89042 to 3.79528, saving model to ModelWeights/LSTM_Tester.h5\n",
      "Epoch 6/1000\n",
      "38585/38585 [==============================] - 41s 1ms/step - loss: 3.6598 - acc: 0.1167 - val_loss: 3.6481 - val_acc: 0.1192\n",
      "\n",
      "Epoch 00006: val_loss improved from 3.79528 to 3.64809, saving model to ModelWeights/LSTM_Tester.h5\n",
      "Epoch 7/1000\n",
      "38585/38585 [==============================] - 42s 1ms/step - loss: 3.5279 - acc: 0.1309 - val_loss: 3.5532 - val_acc: 0.1272\n",
      "\n",
      "Epoch 00007: val_loss improved from 3.64809 to 3.55317, saving model to ModelWeights/LSTM_Tester.h5\n",
      "Epoch 8/1000\n",
      "38585/38585 [==============================] - 41s 1ms/step - loss: 3.4188 - acc: 0.1422 - val_loss: 3.4871 - val_acc: 0.1371\n",
      "\n",
      "Epoch 00008: val_loss improved from 3.55317 to 3.48710, saving model to ModelWeights/LSTM_Tester.h5\n",
      "Epoch 9/1000\n",
      "38585/38585 [==============================] - 41s 1ms/step - loss: 3.2841 - acc: 0.1559 - val_loss: 3.3829 - val_acc: 0.1526\n",
      "\n",
      "Epoch 00009: val_loss improved from 3.48710 to 3.38295, saving model to ModelWeights/LSTM_Tester.h5\n",
      "Epoch 10/1000\n",
      "38585/38585 [==============================] - 43s 1ms/step - loss: 3.1824 - acc: 0.1680 - val_loss: 3.2861 - val_acc: 0.1654\n",
      "\n",
      "Epoch 00010: val_loss improved from 3.38295 to 3.28610, saving model to ModelWeights/LSTM_Tester.h5\n",
      "Epoch 11/1000\n",
      "38585/38585 [==============================] - 44s 1ms/step - loss: 3.0860 - acc: 0.1810 - val_loss: 3.2375 - val_acc: 0.1728\n",
      "\n",
      "Epoch 00011: val_loss improved from 3.28610 to 3.23755, saving model to ModelWeights/LSTM_Tester.h5\n",
      "Epoch 12/1000\n",
      "38585/38585 [==============================] - 43s 1ms/step - loss: 3.0074 - acc: 0.1892 - val_loss: 3.1843 - val_acc: 0.1824\n",
      "\n",
      "Epoch 00012: val_loss improved from 3.23755 to 3.18431, saving model to ModelWeights/LSTM_Tester.h5\n",
      "Epoch 13/1000\n",
      "38585/38585 [==============================] - 43s 1ms/step - loss: 2.9193 - acc: 0.2004 - val_loss: 3.1319 - val_acc: 0.1895\n",
      "\n",
      "Epoch 00013: val_loss improved from 3.18431 to 3.13187, saving model to ModelWeights/LSTM_Tester.h5\n",
      "Epoch 14/1000\n",
      "38585/38585 [==============================] - 43s 1ms/step - loss: 2.8474 - acc: 0.2067 - val_loss: 3.0887 - val_acc: 0.2008\n",
      "\n",
      "Epoch 00014: val_loss improved from 3.13187 to 3.08868, saving model to ModelWeights/LSTM_Tester.h5\n",
      "Epoch 15/1000\n",
      "38585/38585 [==============================] - 43s 1ms/step - loss: 2.7825 - acc: 0.2157 - val_loss: 3.0721 - val_acc: 0.1999\n",
      "\n",
      "Epoch 00015: val_loss improved from 3.08868 to 3.07207, saving model to ModelWeights/LSTM_Tester.h5\n",
      "Epoch 16/1000\n",
      "38585/38585 [==============================] - 43s 1ms/step - loss: 2.7126 - acc: 0.2273 - val_loss: 2.9934 - val_acc: 0.2095\n",
      "\n",
      "Epoch 00016: val_loss improved from 3.07207 to 2.99343, saving model to ModelWeights/LSTM_Tester.h5\n",
      "Epoch 17/1000\n",
      "38585/38585 [==============================] - 43s 1ms/step - loss: 2.6601 - acc: 0.2315 - val_loss: 2.9939 - val_acc: 0.2056\n",
      "\n",
      "Epoch 00017: val_loss did not improve from 2.99343\n",
      "Epoch 18/1000\n",
      "38585/38585 [==============================] - 43s 1ms/step - loss: 2.6025 - acc: 0.2389 - val_loss: 2.9560 - val_acc: 0.2181\n",
      "\n",
      "Epoch 00018: val_loss improved from 2.99343 to 2.95605, saving model to ModelWeights/LSTM_Tester.h5\n",
      "Epoch 19/1000\n",
      "38585/38585 [==============================] - 43s 1ms/step - loss: 2.5450 - acc: 0.2479 - val_loss: 2.9300 - val_acc: 0.2151\n",
      "\n",
      "Epoch 00019: val_loss improved from 2.95605 to 2.92998, saving model to ModelWeights/LSTM_Tester.h5\n",
      "Epoch 20/1000\n",
      "38585/38585 [==============================] - 44s 1ms/step - loss: 2.4893 - acc: 0.2544 - val_loss: 2.8853 - val_acc: 0.2241\n",
      "\n",
      "Epoch 00020: val_loss improved from 2.92998 to 2.88532, saving model to ModelWeights/LSTM_Tester.h5\n",
      "Epoch 21/1000\n",
      "38585/38585 [==============================] - 43s 1ms/step - loss: 2.4352 - acc: 0.2627 - val_loss: 2.8786 - val_acc: 0.2291\n",
      "\n",
      "Epoch 00021: val_loss improved from 2.88532 to 2.87862, saving model to ModelWeights/LSTM_Tester.h5\n",
      "Epoch 22/1000\n",
      "38585/38585 [==============================] - 43s 1ms/step - loss: 2.3929 - acc: 0.2668 - val_loss: 2.8581 - val_acc: 0.2336\n",
      "\n",
      "Epoch 00022: val_loss improved from 2.87862 to 2.85814, saving model to ModelWeights/LSTM_Tester.h5\n",
      "Epoch 23/1000\n",
      "38585/38585 [==============================] - 43s 1ms/step - loss: 2.3424 - acc: 0.2779 - val_loss: 2.8309 - val_acc: 0.2354\n",
      "\n",
      "Epoch 00023: val_loss improved from 2.85814 to 2.83093, saving model to ModelWeights/LSTM_Tester.h5\n",
      "Epoch 24/1000\n",
      "38585/38585 [==============================] - 43s 1ms/step - loss: 2.2942 - acc: 0.2833 - val_loss: 2.8308 - val_acc: 0.2345\n",
      "\n",
      "Epoch 00024: val_loss improved from 2.83093 to 2.83077, saving model to ModelWeights/LSTM_Tester.h5\n",
      "Epoch 25/1000\n",
      "38585/38585 [==============================] - 43s 1ms/step - loss: 2.2433 - acc: 0.2918 - val_loss: 2.7996 - val_acc: 0.2354\n",
      "\n",
      "Epoch 00025: val_loss improved from 2.83077 to 2.79958, saving model to ModelWeights/LSTM_Tester.h5\n",
      "Epoch 26/1000\n",
      "38585/38585 [==============================] - 43s 1ms/step - loss: 2.2143 - acc: 0.2961 - val_loss: 2.7821 - val_acc: 0.2479\n",
      "\n",
      "Epoch 00026: val_loss improved from 2.79958 to 2.78205, saving model to ModelWeights/LSTM_Tester.h5\n",
      "Epoch 27/1000\n",
      "38585/38585 [==============================] - 43s 1ms/step - loss: 2.1658 - acc: 0.3056 - val_loss: 2.7942 - val_acc: 0.2497\n",
      "\n",
      "Epoch 00027: val_loss did not improve from 2.78205\n",
      "Epoch 28/1000\n",
      "38585/38585 [==============================] - 43s 1ms/step - loss: 2.1297 - acc: 0.3093 - val_loss: 2.7640 - val_acc: 0.2554\n",
      "\n",
      "Epoch 00028: val_loss improved from 2.78205 to 2.76404, saving model to ModelWeights/LSTM_Tester.h5\n",
      "Epoch 29/1000\n",
      "38585/38585 [==============================] - 43s 1ms/step - loss: 2.0936 - acc: 0.3156 - val_loss: 2.7407 - val_acc: 0.2530\n",
      "\n",
      "Epoch 00029: val_loss improved from 2.76404 to 2.74066, saving model to ModelWeights/LSTM_Tester.h5\n",
      "Epoch 30/1000\n",
      "38585/38585 [==============================] - 44s 1ms/step - loss: 2.0629 - acc: 0.3209 - val_loss: 2.7457 - val_acc: 0.2607\n",
      "\n",
      "Epoch 00030: val_loss did not improve from 2.74066\n",
      "Epoch 31/1000\n",
      "38585/38585 [==============================] - 43s 1ms/step - loss: 2.0272 - acc: 0.3270 - val_loss: 2.7712 - val_acc: 0.2542\n",
      "\n",
      "Epoch 00031: val_loss did not improve from 2.74066\n",
      "Epoch 32/1000\n",
      "38585/38585 [==============================] - 43s 1ms/step - loss: 2.0023 - acc: 0.3291 - val_loss: 2.7048 - val_acc: 0.2667\n",
      "\n",
      "Epoch 00032: val_loss improved from 2.74066 to 2.70482, saving model to ModelWeights/LSTM_Tester.h5\n",
      "Epoch 33/1000\n",
      "38585/38585 [==============================] - 43s 1ms/step - loss: 1.9574 - acc: 0.3373 - val_loss: 2.7000 - val_acc: 0.2673\n",
      "\n",
      "Epoch 00033: val_loss improved from 2.70482 to 2.70002, saving model to ModelWeights/LSTM_Tester.h5\n",
      "Epoch 34/1000\n",
      "38585/38585 [==============================] - 43s 1ms/step - loss: 1.9375 - acc: 0.3423 - val_loss: 2.7040 - val_acc: 0.2595\n",
      "\n",
      "Epoch 00034: val_loss did not improve from 2.70002\n",
      "Epoch 35/1000\n",
      "38585/38585 [==============================] - 43s 1ms/step - loss: 1.9018 - acc: 0.3467 - val_loss: 2.6843 - val_acc: 0.2664\n",
      "\n",
      "Epoch 00035: val_loss improved from 2.70002 to 2.68427, saving model to ModelWeights/LSTM_Tester.h5\n",
      "Epoch 36/1000\n"
     ]
    },
    {
     "name": "stdout",
     "output_type": "stream",
     "text": [
      "38585/38585 [==============================] - 43s 1ms/step - loss: 1.8623 - acc: 0.3550 - val_loss: 2.7156 - val_acc: 0.2738\n",
      "\n",
      "Epoch 00036: val_loss did not improve from 2.68427\n",
      "Epoch 37/1000\n",
      "38585/38585 [==============================] - 43s 1ms/step - loss: 1.8260 - acc: 0.3635 - val_loss: 2.6822 - val_acc: 0.2703\n",
      "\n",
      "Epoch 00037: val_loss improved from 2.68427 to 2.68220, saving model to ModelWeights/LSTM_Tester.h5\n",
      "Epoch 38/1000\n",
      "38585/38585 [==============================] - 44s 1ms/step - loss: 1.8137 - acc: 0.3632 - val_loss: 2.6992 - val_acc: 0.2780\n",
      "\n",
      "Epoch 00038: val_loss did not improve from 2.68220\n",
      "Epoch 39/1000\n",
      "38585/38585 [==============================] - 44s 1ms/step - loss: 1.7936 - acc: 0.3666 - val_loss: 2.6959 - val_acc: 0.2864\n",
      "\n",
      "Epoch 00039: val_loss did not improve from 2.68220\n",
      "Epoch 40/1000\n",
      "38585/38585 [==============================] - 45s 1ms/step - loss: 1.7567 - acc: 0.3740 - val_loss: 2.6617 - val_acc: 0.2852\n",
      "\n",
      "Epoch 00040: val_loss improved from 2.68220 to 2.66167, saving model to ModelWeights/LSTM_Tester.h5\n",
      "Epoch 41/1000\n",
      "38585/38585 [==============================] - 43s 1ms/step - loss: 1.7202 - acc: 0.3774 - val_loss: 2.6586 - val_acc: 0.2890\n",
      "\n",
      "Epoch 00041: val_loss improved from 2.66167 to 2.65862, saving model to ModelWeights/LSTM_Tester.h5\n",
      "Epoch 42/1000\n",
      "38585/38585 [==============================] - 44s 1ms/step - loss: 1.7000 - acc: 0.3809 - val_loss: 2.6929 - val_acc: 0.2887\n",
      "\n",
      "Epoch 00042: val_loss did not improve from 2.65862\n",
      "Epoch 43/1000\n",
      "38585/38585 [==============================] - 44s 1ms/step - loss: 1.6690 - acc: 0.3884 - val_loss: 2.6756 - val_acc: 0.2965\n",
      "\n",
      "Epoch 00043: val_loss did not improve from 2.65862\n",
      "Epoch 44/1000\n",
      "38585/38585 [==============================] - 44s 1ms/step - loss: 1.6554 - acc: 0.3905 - val_loss: 2.7003 - val_acc: 0.2878\n",
      "\n",
      "Epoch 00044: val_loss did not improve from 2.65862\n",
      "Epoch 45/1000\n",
      "38585/38585 [==============================] - 41s 1ms/step - loss: 1.6288 - acc: 0.3956 - val_loss: 2.6860 - val_acc: 0.2899\n",
      "\n",
      "Epoch 00045: val_loss did not improve from 2.65862\n",
      "Epoch 46/1000\n",
      "38585/38585 [==============================] - 42s 1ms/step - loss: 1.6127 - acc: 0.3973 - val_loss: 2.7044 - val_acc: 0.2989\n",
      "\n",
      "Epoch 00046: val_loss did not improve from 2.65862\n",
      "Epoch 47/1000\n",
      "38585/38585 [==============================] - 43s 1ms/step - loss: 1.5815 - acc: 0.4038 - val_loss: 2.6640 - val_acc: 0.3108\n",
      "\n",
      "Epoch 00047: val_loss did not improve from 2.65862\n",
      "Epoch 48/1000\n",
      "38585/38585 [==============================] - 41s 1ms/step - loss: 1.5655 - acc: 0.4091 - val_loss: 2.6756 - val_acc: 0.3054\n",
      "\n",
      "Epoch 00048: val_loss did not improve from 2.65862\n",
      "Epoch 49/1000\n",
      "38585/38585 [==============================] - 41s 1ms/step - loss: 1.5397 - acc: 0.4114 - val_loss: 2.7088 - val_acc: 0.3021\n",
      "\n",
      "Epoch 00049: val_loss did not improve from 2.65862\n",
      "Epoch 50/1000\n",
      "38585/38585 [==============================] - 41s 1ms/step - loss: 1.5319 - acc: 0.4130 - val_loss: 2.7106 - val_acc: 0.3138\n",
      "\n",
      "Epoch 00050: val_loss did not improve from 2.65862\n",
      "Epoch 51/1000\n",
      "38585/38585 [==============================] - 41s 1ms/step - loss: 1.4984 - acc: 0.4192 - val_loss: 2.7023 - val_acc: 0.3087\n",
      "\n",
      "Epoch 00051: val_loss did not improve from 2.65862\n",
      "Epoch 00051: early stopping\n"
     ]
    }
   ],
   "source": [
    "early_stopping = EarlyStopping(monitor='val_loss', verbose = 1, patience=10, min_delta = .00075)\n",
    "model_checkpoint = ModelCheckpoint(f'ModelWeights/LSTM_{model_type}.h5', verbose = 1, save_best_only=True,\n",
    "                                  monitor = 'val_loss')\n",
    "\n",
    "batch = 128 \n",
    "epochs = 1000 \n",
    "callbacks = [early_stopping, model_checkpoint]\n",
    "\n",
    "unique_n = len(notes_dict)\n",
    "lstm_model = get_lstm(unique_n)\n",
    "\n",
    "lstm_history = lstm_model.fit(x_train, y_train, batch_size = batch, epochs = epochs, validation_data = (x_test, y_test), \n",
    "                        callbacks = callbacks)\n",
    "\n",
    "pickle.dump(lstm_history, open(f'ModelPerf/{model_type}.p', 'wb'))"
   ]
  },
  {
   "cell_type": "code",
   "execution_count": 6,
   "metadata": {},
   "outputs": [
    {
     "ename": "AssertionError",
     "evalue": "",
     "output_type": "error",
     "traceback": [
      "\u001b[1;31m---------------------------------------------------------------------------\u001b[0m",
      "\u001b[1;31mAssertionError\u001b[0m                            Traceback (most recent call last)",
      "\u001b[1;32m<ipython-input-6-a871fdc9ebee>\u001b[0m in \u001b[0;36m<module>\u001b[1;34m\u001b[0m\n\u001b[1;32m----> 1\u001b[1;33m \u001b[1;32massert\u001b[0m \u001b[1;32mFalse\u001b[0m\u001b[1;33m\u001b[0m\u001b[1;33m\u001b[0m\u001b[0m\n\u001b[0m",
      "\u001b[1;31mAssertionError\u001b[0m: "
     ]
    }
   ],
   "source": [
    "assert False"
   ]
  },
  {
   "cell_type": "code",
   "execution_count": null,
   "metadata": {},
   "outputs": [],
   "source": [
    "%%javascript\n",
    "IPython.notebook.save_notebook()"
   ]
  },
  {
   "cell_type": "code",
   "execution_count": null,
   "metadata": {},
   "outputs": [],
   "source": [
    "\n",
    "import os\n",
    "os.system(r'%windir%\\system32\\rundll32.exe powrprof.dll,SetSuspendState Hibernate')"
   ]
  },
  {
   "cell_type": "code",
   "execution_count": null,
   "metadata": {},
   "outputs": [],
   "source": []
  }
 ],
 "metadata": {
  "kernelspec": {
   "display_name": "MusicGenerator",
   "language": "python",
   "name": "musicgenerator"
  },
  "language_info": {
   "codemirror_mode": {
    "name": "ipython",
    "version": 3
   },
   "file_extension": ".py",
   "mimetype": "text/x-python",
   "name": "python",
   "nbconvert_exporter": "python",
   "pygments_lexer": "ipython3",
   "version": "3.8.5"
  }
 },
 "nbformat": 4,
 "nbformat_minor": 2
}

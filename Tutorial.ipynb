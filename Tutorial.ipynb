{
 "cells": [
  {
   "cell_type": "code",
   "execution_count": 1,
   "metadata": {},
   "outputs": [],
   "source": [
    "import music21 \n",
    "import os\n",
    "from tqdm import tqdm"
   ]
  },
  {
   "cell_type": "code",
   "execution_count": null,
   "metadata": {},
   "outputs": [],
   "source": [
    "# base_dir = '../midi_songs'\n",
    "\n",
    "# file = f'{base_dir}/FFIX_Piano.mid'\n",
    "\n",
    "# score = music21.converter.parse(file).chordify() \n",
    "\n",
    "# print(score.show('text'))"
   ]
  },
  {
   "cell_type": "code",
   "execution_count": 2,
   "metadata": {},
   "outputs": [
    {
     "name": "stderr",
     "output_type": "stream",
     "text": [
      "100%|█████████████████████████████████████████████████████████████████████████████████████████████████████████████████████████████████████████████████████| 91/91 [00:06<00:00, 14.11it/s]\n"
     ]
    }
   ],
   "source": [
    "def convert_parse(file_path): \n",
    "    try: \n",
    "        score = music21.converter.parse(file_path) \n",
    "    except: \n",
    "        score = None \n",
    "    return score\n",
    "\n",
    "base_dir = '../midi_songs'\n",
    "\n",
    "songlist = os.listdir(base_dir)\n",
    "originalscores = [convert_parse(f'{base_dir}/{song}') for song in tqdm(songlist)] \n",
    "originalscores = [i for i in originalscores if i != None]"
   ]
  },
  {
   "cell_type": "code",
   "execution_count": 5,
   "metadata": {},
   "outputs": [],
   "source": [
    "# originalscores"
   ]
  },
  {
   "cell_type": "code",
   "execution_count": 4,
   "metadata": {},
   "outputs": [
    {
     "name": "stderr",
     "output_type": "stream",
     "text": [
      "100%|█████████████████████████████████████████████████████████████████████████████████████████████████████████████████████████████████████████████████████| 90/90 [01:21<00:00,  1.10it/s]\n"
     ]
    }
   ],
   "source": [
    "def monophonic(stream): \n",
    "    try: \n",
    "        length = len(music21.instrument.partitionByInstrument(stream).parts)\n",
    "    except: \n",
    "        length = 0 \n",
    "    if length == 1: \n",
    "        return length\n",
    "\n",
    "originalscores = [song.chordify() for song in tqdm(originalscores)]\n"
   ]
  },
  {
   "cell_type": "code",
   "execution_count": 7,
   "metadata": {},
   "outputs": [],
   "source": [
    "# originalscores"
   ]
  },
  {
   "cell_type": "code",
   "execution_count": null,
   "metadata": {},
   "outputs": [],
   "source": [
    "assert False"
   ]
  },
  {
   "cell_type": "code",
   "execution_count": 9,
   "metadata": {},
   "outputs": [],
   "source": [
    "originalchords = [[] for i in originalscores] \n",
    "originaldurations = [[] for i in originalscores] \n",
    "originalkeys = []\n",
    "\n",
    "#extract notes, chords, durations, and keys\n",
    "for idx, song in enumerate(originalscores): \n",
    "    originalkeys.append(str(song.analyze('key')))\n",
    "    \n",
    "    for element in song: \n",
    "        if isinstance(element, music21.note.Note): \n",
    "            originalchords[idx].append(element.pitch)\n",
    "            originalDurations[idx].append(element.duration.quarterLength)\n",
    "        elif isinstance(element, music21.chord.Chord): \n",
    "            originalchords[idx].append('.'.join(str(n) for n in element.pitches))\n",
    "            originaldurations[idx].append(element.duration.quarterLength)"
   ]
  },
  {
   "cell_type": "code",
   "execution_count": 10,
   "metadata": {},
   "outputs": [],
   "source": [
    "#create a list of chords and durations from songs in C major \n",
    "\n",
    "cMajorChords = [c for c,k in zip(originalchords, originalkeys) if k == 'C major']\n",
    "cMajorDurations = [c for (c,k) in zip(originaldurations, originalkeys) if k == 'C major']"
   ]
  },
  {
   "cell_type": "code",
   "execution_count": null,
   "metadata": {},
   "outputs": [],
   "source": []
  },
  {
   "cell_type": "code",
   "execution_count": null,
   "metadata": {},
   "outputs": [],
   "source": []
  }
 ],
 "metadata": {
  "kernelspec": {
   "display_name": "MusicGenerator",
   "language": "python",
   "name": "musicgenerator"
  },
  "language_info": {
   "codemirror_mode": {
    "name": "ipython",
    "version": 3
   },
   "file_extension": ".py",
   "mimetype": "text/x-python",
   "name": "python",
   "nbconvert_exporter": "python",
   "pygments_lexer": "ipython3",
   "version": "3.8.5"
  }
 },
 "nbformat": 4,
 "nbformat_minor": 2
}

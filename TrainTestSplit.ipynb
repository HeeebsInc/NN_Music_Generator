{
 "cells": [
  {
   "cell_type": "code",
   "execution_count": 1,
   "metadata": {},
   "outputs": [],
   "source": [
    "from music21 import converter, instrument, note, chord, \n",
    "import numpy as np\n",
    "import os\n",
    "from tqdm import tqdm\n",
    "from sklearn.model_selection import train_test_split\n",
    "import pickle\n",
    "from collections import defaultdict"
   ]
  },
  {
   "cell_type": "code",
   "execution_count": 7,
   "metadata": {},
   "outputs": [
    {
     "name": "stderr",
     "output_type": "stream",
     "text": [
      "Reading Midi Files:   3%|███▎                                                                                                                              | 1/39 [00:00<00:05,  6.94it/s]"
     ]
    },
    {
     "name": "stdout",
     "output_type": "stream",
     "text": [
      "../Techno/abridge_d.mid\n",
      "../Techno/ACKER-GS.mid\n"
     ]
    },
    {
     "name": "stderr",
     "output_type": "stream",
     "text": [
      "\r",
      "Reading Midi Files:   5%|██████▋                                                                                                                           | 2/39 [00:01<00:15,  2.43it/s]"
     ]
    },
    {
     "name": "stdout",
     "output_type": "stream",
     "text": [
      "../Techno/aintnostoppingusnow.mid\n"
     ]
    },
    {
     "name": "stderr",
     "output_type": "stream",
     "text": [
      "\r",
      "Reading Midi Files:   8%|██████████                                                                                                                        | 3/39 [00:02<00:27,  1.32it/s]"
     ]
    },
    {
     "name": "stdout",
     "output_type": "stream",
     "text": [
      "../Techno/ANTICI.mid\n"
     ]
    },
    {
     "name": "stderr",
     "output_type": "stream",
     "text": [
      "\r",
      "Reading Midi Files:  10%|█████████████▎                                                                                                                    | 4/39 [00:03<00:22,  1.55it/s]"
     ]
    },
    {
     "name": "stdout",
     "output_type": "stream",
     "text": [
      "../Techno/blkisblk_d.mid\n"
     ]
    },
    {
     "name": "stderr",
     "output_type": "stream",
     "text": [
      "\r",
      "Reading Midi Files:  13%|████████████████▋                                                                                                                 | 5/39 [00:03<00:22,  1.51it/s]"
     ]
    },
    {
     "name": "stdout",
     "output_type": "stream",
     "text": [
      "../Techno/blowthe_d.mid\n"
     ]
    },
    {
     "name": "stderr",
     "output_type": "stream",
     "text": [
      "\r",
      "Reading Midi Files:  15%|████████████████████                                                                                                              | 6/39 [00:05<00:30,  1.08it/s]"
     ]
    },
    {
     "name": "stdout",
     "output_type": "stream",
     "text": [
      "../Techno/BOMB.mid\n"
     ]
    },
    {
     "name": "stderr",
     "output_type": "stream",
     "text": [
      "\r",
      "Reading Midi Files:  18%|███████████████████████▎                                                                                                          | 7/39 [00:05<00:26,  1.20it/s]"
     ]
    },
    {
     "name": "stdout",
     "output_type": "stream",
     "text": [
      "../Techno/borntobewild2.mid\n"
     ]
    },
    {
     "name": "stderr",
     "output_type": "stream",
     "text": [
      "\r",
      "Reading Midi Files:  21%|██████████████████████████▋                                                                                                       | 8/39 [00:07<00:29,  1.05it/s]"
     ]
    },
    {
     "name": "stdout",
     "output_type": "stream",
     "text": [
      "../Techno/borntobe_d.mid\n"
     ]
    },
    {
     "name": "stderr",
     "output_type": "stream",
     "text": [
      "\r",
      "Reading Midi Files:  23%|██████████████████████████████                                                                                                    | 9/39 [00:08<00:35,  1.19s/it]"
     ]
    },
    {
     "name": "stdout",
     "output_type": "stream",
     "text": [
      "../Techno/BRAIN.mid\n"
     ]
    },
    {
     "name": "stderr",
     "output_type": "stream",
     "text": [
      "\r",
      "Reading Midi Files:  26%|█████████████████████████████████                                                                                                | 10/39 [00:09<00:32,  1.12s/it]"
     ]
    },
    {
     "name": "stdout",
     "output_type": "stream",
     "text": [
      "../Techno/celebrat_d.mid\n"
     ]
    },
    {
     "name": "stderr",
     "output_type": "stream",
     "text": [
      "\r",
      "Reading Midi Files:  28%|████████████████████████████████████▍                                                                                            | 11/39 [00:11<00:33,  1.19s/it]"
     ]
    },
    {
     "name": "stdout",
     "output_type": "stream",
     "text": [
      "../Techno/d-100purelove.mid\n"
     ]
    },
    {
     "name": "stderr",
     "output_type": "stream",
     "text": [
      "\r",
      "Reading Midi Files:  31%|███████████████████████████████████████▋                                                                                         | 12/39 [00:12<00:34,  1.29s/it]"
     ]
    },
    {
     "name": "stdout",
     "output_type": "stream",
     "text": [
      "../Techno/d-123trainwithme.mid\n"
     ]
    },
    {
     "name": "stderr",
     "output_type": "stream",
     "text": [
      "\r",
      "Reading Midi Files:  33%|███████████████████████████████████████████                                                                                      | 13/39 [00:14<00:34,  1.31s/it]"
     ]
    },
    {
     "name": "stdout",
     "output_type": "stream",
     "text": [
      "../Techno/d-allthatshewants.mid\n"
     ]
    },
    {
     "name": "stderr",
     "output_type": "stream",
     "text": [
      "\r",
      "Reading Midi Files:  36%|██████████████████████████████████████████████▎                                                                                  | 14/39 [00:14<00:28,  1.14s/it]"
     ]
    },
    {
     "name": "stdout",
     "output_type": "stream",
     "text": [
      "../Techno/d-anotherday.mid\n"
     ]
    },
    {
     "name": "stderr",
     "output_type": "stream",
     "text": [
      "\r",
      "Reading Midi Files:  38%|█████████████████████████████████████████████████▌                                                                               | 15/39 [00:15<00:25,  1.07s/it]"
     ]
    },
    {
     "name": "stdout",
     "output_type": "stream",
     "text": [
      "../Techno/d-anothernight.mid\n"
     ]
    },
    {
     "name": "stderr",
     "output_type": "stream",
     "text": [
      "\r",
      "Reading Midi Files:  41%|████████████████████████████████████████████████████▉                                                                            | 16/39 [00:17<00:28,  1.23s/it]"
     ]
    },
    {
     "name": "stdout",
     "output_type": "stream",
     "text": [
      "../Techno/d-anything.mid\n"
     ]
    },
    {
     "name": "stderr",
     "output_type": "stream",
     "text": [
      "\r",
      "Reading Midi Files:  44%|████████████████████████████████████████████████████████▏                                                                        | 17/39 [00:18<00:27,  1.27s/it]"
     ]
    },
    {
     "name": "stdout",
     "output_type": "stream",
     "text": [
      "../Techno/d-automaticlover.mid\n"
     ]
    },
    {
     "name": "stderr",
     "output_type": "stream",
     "text": [
      "\r",
      "Reading Midi Files:  46%|███████████████████████████████████████████████████████████▌                                                                     | 18/39 [00:20<00:30,  1.46s/it]"
     ]
    },
    {
     "name": "stdout",
     "output_type": "stream",
     "text": [
      "../Techno/d-awayfromhome.mid\n"
     ]
    },
    {
     "name": "stderr",
     "output_type": "stream",
     "text": [
      "\r",
      "Reading Midi Files:  49%|██████████████████████████████████████████████████████████████▊                                                                  | 19/39 [00:21<00:24,  1.24s/it]"
     ]
    },
    {
     "name": "stdout",
     "output_type": "stream",
     "text": [
      "../Techno/d-babybaby.mid\n"
     ]
    },
    {
     "name": "stderr",
     "output_type": "stream",
     "text": [
      "\r",
      "Reading Midi Files:  51%|██████████████████████████████████████████████████████████████████▏                                                              | 20/39 [00:22<00:22,  1.18s/it]"
     ]
    },
    {
     "name": "stdout",
     "output_type": "stream",
     "text": [
      "../Techno/d-badboy.mid\n"
     ]
    },
    {
     "name": "stderr",
     "output_type": "stream",
     "text": [
      "\r",
      "Reading Midi Files:  54%|█████████████████████████████████████████████████████████████████████▍                                                           | 21/39 [00:23<00:22,  1.28s/it]"
     ]
    },
    {
     "name": "stdout",
     "output_type": "stream",
     "text": [
      "../Techno/d-beautifullife.mid\n"
     ]
    },
    {
     "name": "stderr",
     "output_type": "stream",
     "text": [
      "\r",
      "Reading Midi Files:  56%|████████████████████████████████████████████████████████████████████████▊                                                        | 22/39 [00:24<00:20,  1.20s/it]"
     ]
    },
    {
     "name": "stdout",
     "output_type": "stream",
     "text": [
      "../Techno/d-becauseimlovingyou.mid\n"
     ]
    },
    {
     "name": "stderr",
     "output_type": "stream",
     "text": [
      "\r",
      "Reading Midi Files:  59%|████████████████████████████████████████████████████████████████████████████                                                     | 23/39 [00:25<00:17,  1.07s/it]"
     ]
    },
    {
     "name": "stdout",
     "output_type": "stream",
     "text": [
      "../Techno/d-bemylover.mid\n"
     ]
    },
    {
     "name": "stderr",
     "output_type": "stream",
     "text": [
      "\r",
      "Reading Midi Files:  62%|███████████████████████████████████████████████████████████████████████████████▍                                                 | 24/39 [00:27<00:18,  1.22s/it]"
     ]
    },
    {
     "name": "stdout",
     "output_type": "stream",
     "text": [
      "../Techno/d-callme.mid\n"
     ]
    },
    {
     "name": "stderr",
     "output_type": "stream",
     "text": [
      "\r",
      "Reading Midi Files:  64%|██████████████████████████████████████████████████████████████████████████████████▋                                              | 25/39 [00:29<00:19,  1.41s/it]"
     ]
    },
    {
     "name": "stdout",
     "output_type": "stream",
     "text": [
      "../Techno/d-captainjack.mid\n"
     ]
    },
    {
     "name": "stderr",
     "output_type": "stream",
     "text": [
      "\r",
      "Reading Midi Files:  67%|██████████████████████████████████████████████████████████████████████████████████████                                           | 26/39 [00:29<00:15,  1.22s/it]"
     ]
    },
    {
     "name": "stdout",
     "output_type": "stream",
     "text": [
      "../Techno/d-celebratethelove.mid\n"
     ]
    },
    {
     "name": "stderr",
     "output_type": "stream",
     "text": [
      "\r",
      "Reading Midi Files:  69%|█████████████████████████████████████████████████████████████████████████████████████████▎                                       | 27/39 [00:30<00:13,  1.14s/it]"
     ]
    },
    {
     "name": "stdout",
     "output_type": "stream",
     "text": [
      "../Techno/d-children.mid\n"
     ]
    },
    {
     "name": "stderr",
     "output_type": "stream",
     "text": [
      "\r",
      "Reading Midi Files:  72%|████████████████████████████████████████████████████████████████████████████████████████████▌                                    | 28/39 [00:33<00:16,  1.50s/it]"
     ]
    },
    {
     "name": "stdout",
     "output_type": "stream",
     "text": [
      "../Techno/d-childrenofthenight.mid\n"
     ]
    },
    {
     "name": "stderr",
     "output_type": "stream",
     "text": [
      "\r",
      "Reading Midi Files:  74%|███████████████████████████████████████████████████████████████████████████████████████████████▉                                 | 29/39 [00:34<00:15,  1.53s/it]"
     ]
    },
    {
     "name": "stdout",
     "output_type": "stream",
     "text": [
      "../Techno/d-closetoyou.mid\n"
     ]
    },
    {
     "name": "stderr",
     "output_type": "stream",
     "text": [
      "\r",
      "Reading Midi Files:  77%|███████████████████████████████████████████████████████████████████████████████████████████████████▏                             | 30/39 [00:35<00:12,  1.34s/it]"
     ]
    },
    {
     "name": "stdout",
     "output_type": "stream",
     "text": [
      "../Techno/d-cocojamboo.mid\n"
     ]
    },
    {
     "name": "stderr",
     "output_type": "stream",
     "text": [
      "\r",
      "Reading Midi Files:  79%|██████████████████████████████████████████████████████████████████████████████████████████████████████▌                          | 31/39 [00:36<00:09,  1.14s/it]"
     ]
    },
    {
     "name": "stdout",
     "output_type": "stream",
     "text": [
      "../Techno/d-comenrideit.mid\n"
     ]
    },
    {
     "name": "stderr",
     "output_type": "stream",
     "text": [
      "\r",
      "Reading Midi Files:  82%|█████████████████████████████████████████████████████████████████████████████████████████████████████████▊                       | 32/39 [00:38<00:09,  1.41s/it]"
     ]
    },
    {
     "name": "stdout",
     "output_type": "stream",
     "text": [
      "../Techno/d-cometakemyhand.mid\n"
     ]
    },
    {
     "name": "stderr",
     "output_type": "stream",
     "text": [
      "\r",
      "Reading Midi Files:  85%|█████████████████████████████████████████████████████████████████████████████████████████████████████████████▏                   | 33/39 [00:40<00:08,  1.50s/it]"
     ]
    },
    {
     "name": "stdout",
     "output_type": "stream",
     "text": [
      "../Techno/d-cottoneyejoe.mid\n"
     ]
    },
    {
     "name": "stderr",
     "output_type": "stream",
     "text": [
      "\r",
      "Reading Midi Files:  87%|████████████████████████████████████████████████████████████████████████████████████████████████████████████████▍                | 34/39 [00:42<00:08,  1.62s/it]"
     ]
    },
    {
     "name": "stdout",
     "output_type": "stream",
     "text": [
      "../Techno/d-dadip.mid\n"
     ]
    },
    {
     "name": "stderr",
     "output_type": "stream",
     "text": [
      "\r",
      "Reading Midi Files:  90%|███████████████████████████████████████████████████████████████████████████████████████████████████████████████████▊             | 35/39 [00:43<00:05,  1.43s/it]"
     ]
    },
    {
     "name": "stdout",
     "output_type": "stream",
     "text": [
      "../Techno/d-dafunk.mid\n"
     ]
    },
    {
     "name": "stderr",
     "output_type": "stream",
     "text": [
      "\r",
      "Reading Midi Files:  92%|███████████████████████████████████████████████████████████████████████████████████████████████████████████████████████          | 36/39 [00:43<00:03,  1.12s/it]"
     ]
    },
    {
     "name": "stdout",
     "output_type": "stream",
     "text": [
      "../Techno/d-dancingwithanangel.mid\n"
     ]
    },
    {
     "name": "stderr",
     "output_type": "stream",
     "text": [
      "\r",
      "Reading Midi Files:  95%|██████████████████████████████████████████████████████████████████████████████████████████████████████████████████████████▍      | 37/39 [00:44<00:02,  1.03s/it]"
     ]
    },
    {
     "name": "stdout",
     "output_type": "stream",
     "text": [
      "../Techno/d-dontcryformeargentina.mid\n"
     ]
    },
    {
     "name": "stderr",
     "output_type": "stream",
     "text": [
      "\r",
      "Reading Midi Files:  97%|█████████████████████████████████████████████████████████████████████████████████████████████████████████████████████████████▋   | 38/39 [00:46<00:01,  1.42s/it]"
     ]
    },
    {
     "name": "stdout",
     "output_type": "stream",
     "text": [
      "../Techno/d-dontgoaway.mid\n"
     ]
    },
    {
     "name": "stderr",
     "output_type": "stream",
     "text": [
      "Reading Midi Files: 100%|█████████████████████████████████████████████████████████████████████████████████████████████████████████████████████████████████| 39/39 [00:47<00:00,  1.21s/it]\n",
      "Creating Timeseries: 100%|███████████████████████████████████████████████████████████████████████████████████████████████████████████████████████████████| 39/39 [00:00<00:00, 906.78it/s]\n"
     ]
    }
   ],
   "source": [
    "def read_midi(file_path): \n",
    "    print(file_path)\n",
    "    notes = [] \n",
    "    notes_to_parse = None \n",
    "    instruments = []\n",
    "    midi= converter.parse(file_path)\n",
    "\n",
    "    s2 = instrument.partitionByInstrument(midi)\n",
    "    for part in s2.parts:\n",
    "        str_part = str(part)\n",
    "        if str_part == '<music21.stream.Part>': \n",
    "            continue \n",
    "        else:\n",
    "\n",
    "            cutoff_len = len('<music21.stream.Part ') \n",
    "            instru = str_part[cutoff_len:]\n",
    "            instru = instru[:instru.find('>')]\n",
    "            notes_to_parse = part.recurse() \n",
    "            for element in notes_to_parse: \n",
    "                if isinstance(element, note.Note): \n",
    "                    notes.append(str(element.pitch))\n",
    "                    instruments.append(instru)\n",
    "                elif isinstance(element, chord.Chord): \n",
    "                    notes.append('.'.join(str(n) for n in element.normalOrder))      \n",
    "                    instruments.append(instru)\n",
    "    return np.array(list(zip(instruments, notes)))\n",
    "\n",
    "            \n",
    "                    \n",
    "\n",
    "\n",
    "def unique(np_array, array_type, unique_set): \n",
    "    unique_set_reverse = {n:idx for (idx, n) in unique_set.items()}\n",
    "    new_array =[] \n",
    "    if array_type == 'x':\n",
    "        for group in np_array: \n",
    "            temp = [] \n",
    "            for n in group: \n",
    "                n = ' '.join(n)\n",
    "                temp.append(unique_set_reverse[n])\n",
    "            new_array.append(temp)\n",
    "    else: \n",
    "        for n in np_array: \n",
    "            n = ' '.join(n)\n",
    "            new_array.append(unique_set_reverse[n])\n",
    "    new_array = np.array(new_array)\n",
    "    return new_array\n",
    "\n",
    "\n",
    "def get_tts(base_dir, pick_name = None, timestep = 10): \n",
    "    song_files = [f'{base_dir}/{i}' for i in os.listdir(base_dir)]\n",
    "    songs_notes = [read_midi(i) for i in tqdm(song_files, desc = 'Reading Midi Files')]\n",
    "    all_notes = [' '.join(i) for note_ in songs_notes for i in note_]\n",
    "    note_counter = defaultdict(int)\n",
    "    for i in all_notes: \n",
    "        note_counter[i]+= 1\n",
    "        \n",
    "    all_notes_dict = {idx: n for idx, n in enumerate(set(all_notes))}\n",
    "    \n",
    "    x = [] \n",
    "    y = [] \n",
    "\n",
    "    pbar = tqdm(songs_notes, desc = 'Creating Timeseries')\n",
    "    for idx_song, song in enumerate(pbar):\n",
    "        for idx in range(timestep,len(song)-(timestep), 1): \n",
    "            x.append(song[idx:idx+timestep])\n",
    "            y.append(song[idx + (timestep)])\n",
    "\n",
    "    x = np.array(x)\n",
    "    y = np.array(y)  \n",
    "    \n",
    "    new_x = unique(x, unique_set = all_notes_dict, array_type = 'x')\n",
    "    new_y = unique(y, unique_set = all_notes_dict, array_type ='y')\n",
    "    \n",
    "    \n",
    "    x_train, x_test, y_train, y_test = train_test_split(new_x, new_y, train_size = .90, random_state = 10)\n",
    "    x_train = x_train.reshape(x_train.shape[0], x_train.shape[1],1)\n",
    "    x_test = x_test.reshape(x_test.shape[0], x_test.shape[1],1)\n",
    "    \n",
    "    if pick_name:\n",
    "        pick_tup= (x_train, x_test, y_train, y_test, all_notes_dict)\n",
    "        pickle.dump(pick_tup, open(f'../Pickles/{pick_name}.p', 'wb'))\n",
    "                    \n",
    "    return x_train, x_test, y_train, y_test, all_notes_dict\n",
    "\n",
    "x_train, x_test, y_train, y_test, notes_dict = get_tts('../Techno', pick_name = 'Techno')"
   ]
  },
  {
   "cell_type": "code",
   "execution_count": 8,
   "metadata": {},
   "outputs": [
    {
     "data": {
      "text/plain": [
       "array([[[ 971],\n",
       "        [ 380],\n",
       "        [ 789],\n",
       "        ...,\n",
       "        [ 717],\n",
       "        [ 294],\n",
       "        [ 971]],\n",
       "\n",
       "       [[ 299],\n",
       "        [ 412],\n",
       "        [ 717],\n",
       "        ...,\n",
       "        [ 771],\n",
       "        [ 508],\n",
       "        [ 717]],\n",
       "\n",
       "       [[ 626],\n",
       "        [ 590],\n",
       "        [ 256],\n",
       "        ...,\n",
       "        [  90],\n",
       "        [ 706],\n",
       "        [ 332]],\n",
       "\n",
       "       ...,\n",
       "\n",
       "       [[  76],\n",
       "        [ 766],\n",
       "        [  50],\n",
       "        ...,\n",
       "        [  76],\n",
       "        [ 558],\n",
       "        [  76]],\n",
       "\n",
       "       [[1086],\n",
       "        [ 836],\n",
       "        [ 233],\n",
       "        ...,\n",
       "        [ 836],\n",
       "        [ 592],\n",
       "        [1130]],\n",
       "\n",
       "       [[  85],\n",
       "        [  85],\n",
       "        [  85],\n",
       "        ...,\n",
       "        [  85],\n",
       "        [  85],\n",
       "        [  85]]])"
      ]
     },
     "execution_count": 8,
     "metadata": {},
     "output_type": "execute_result"
    }
   ],
   "source": [
    "x_train"
   ]
  },
  {
   "cell_type": "code",
   "execution_count": null,
   "metadata": {},
   "outputs": [],
   "source": []
  },
  {
   "cell_type": "code",
   "execution_count": null,
   "metadata": {},
   "outputs": [],
   "source": [
    "def read_midi(file_path): \n",
    "    notes = [] \n",
    "    notes_to_parse = None \n",
    "\n",
    "\n",
    "    midi= converter.parse(file_path)\n",
    "    \n",
    "    s2 = instrument.partitionByInstrument(midi)\n",
    "    for part in s2.parts:\n",
    "    \n",
    "        #select elements of only piano\n",
    "        if 'Piano' in str(part): \n",
    "        \n",
    "            notes_to_parse = part.recurse() \n",
    "      \n",
    "            #finding whether a particular element is note or a chord\n",
    "            for element in notes_to_parse:\n",
    "                \n",
    "                #note\n",
    "                if isinstance(element, note.Note):\n",
    "                    notes.append(str(element.pitch))\n",
    "                \n",
    "                #chord\n",
    "                elif isinstance(element, chord.Chord):\n",
    "                    notes.append('.'.join(str(n) for n in element.normalOrder))\n",
    "\n",
    "    return np.array(notes)\n",
    "\n",
    "def unique(np_array, array_type, unique_set): \n",
    "    unique_set_reverse = {n:idx for (idx, n) in unique_set.items()}\n",
    "    new_array =[] \n",
    "    if array_type == 'x':\n",
    "        for group in np_array: \n",
    "            temp = [] \n",
    "            for n in group: \n",
    "                temp.append(unique_set_reverse[n])\n",
    "            new_array.append(temp)\n",
    "    else: \n",
    "        for n in np_array: \n",
    "            new_array.append(unique_set_reverse[n])\n",
    "    new_array = np.array(new_array)\n",
    "    return new_array\n",
    "\n",
    "def get_tts(base_dir, pick_name = None, timestep = 10): \n",
    "    song_files = [f'{base_dir}/{i}' for i in os.listdir(base_dir)]\n",
    "    songs_notes = [read_midi(i) for i in tqdm(song_files, desc = 'Reading Midi Files')]\n",
    "    all_notes = [i for note_ in songs_notes for i in note_]\n",
    "    note_counter = defaultdict(int)\n",
    "    return songs_notes\n",
    "    for i in all_notes: \n",
    "        note_counter[i]+= 1\n",
    "    \n",
    "    int_to_note = dict((idx, n) for idx, n in enumerate(all_notes))\n",
    "    all_notes_dict = {idx: n for idx, n in enumerate(set(all_notes))}\n",
    "    x = [] \n",
    "    y = [] \n",
    "\n",
    "    pbar = tqdm(songs_notes, desc = 'Creating Timeseries')\n",
    "    for idx_song, song in enumerate(pbar):\n",
    "        for idx in range(timestep,len(song)-(timestep), 1): \n",
    "            x.append(song[idx:idx+timestep])\n",
    "            y.append(song[idx + (timestep)])\n",
    "\n",
    "    x = np.array(x)\n",
    "    y = np.array(y)  \n",
    "    \n",
    "    new_x = unique(x, unique_set = all_notes_dict, array_type = 'x')\n",
    "    new_y = unique(y, unique_set = all_notes_dict, array_type ='y')\n",
    "    \n",
    "    \n",
    "    x_train, x_test, y_train, y_test = train_test_split(new_x, new_y, train_size = .90, random_state = 10)\n",
    "    x_train = x_train.reshape(x_train.shape[0], x_train.shape[1],1)\n",
    "    x_test = x_test.reshape(x_test.shape[0], x_test.shape[1],1)\n",
    "    \n",
    "    if pick_name:\n",
    "        pick_tup= (x_train, x_test, y_train, y_test, all_notes_dict)\n",
    "        pickle.dump(pick_tup, open(f'../Pickles/{pick_name}.p', 'wb'))\n",
    "                    \n",
    "    return x_train, x_test, y_train, y_test, all_notes_dict"
   ]
  }
 ],
 "metadata": {
  "kernelspec": {
   "display_name": "MusicGenerator",
   "language": "python",
   "name": "musicgenerator"
  },
  "language_info": {
   "codemirror_mode": {
    "name": "ipython",
    "version": 3
   },
   "file_extension": ".py",
   "mimetype": "text/x-python",
   "name": "python",
   "nbconvert_exporter": "python",
   "pygments_lexer": "ipython3",
   "version": "3.8.5"
  }
 },
 "nbformat": 4,
 "nbformat_minor": 2
}
